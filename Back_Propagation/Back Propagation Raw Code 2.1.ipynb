{
 "cells": [
  {
   "attachments": {},
   "cell_type": "markdown",
   "metadata": {},
   "source": [
    "# Back Propagation for n bit data (60% Train , 40% Test)\n"
   ]
  },
  {
   "attachments": {},
   "cell_type": "markdown",
   "metadata": {},
   "source": [
    "## Generating n bit of data"
   ]
  },
  {
   "cell_type": "code",
   "execution_count": 1,
   "metadata": {},
   "outputs": [],
   "source": [
    "n = int(input('Enter Number of bits : '))\n",
    "count = 0\n",
    "i = n\n",
    "string = 'bit_'\n",
    "total_number = 2 ** n"
   ]
  },
  {
   "cell_type": "code",
   "execution_count": 2,
   "metadata": {},
   "outputs": [],
   "source": [
    "value = list()\n",
    "dictionary = dict()\n",
    "\n",
    "while i >= 1 :\n",
    "    key = string + str(i)\n",
    "    d = 2 ** count\n",
    "\n",
    "    while len(value) != total_number:\n",
    "        for j in range(d):\n",
    "            value.append(0)\n",
    "        for j in range(d):\n",
    "            value.append(1)\n",
    "    \n",
    "    dictionary[key] = value\n",
    "    value = list()\n",
    "    count = count + 1\n",
    "    i = i - 1"
   ]
  },
  {
   "cell_type": "code",
   "execution_count": 3,
   "metadata": {},
   "outputs": [
    {
     "data": {
      "text/plain": [
       "{'bit_3': [0, 1, 0, 1, 0, 1, 0, 1],\n",
       " 'bit_2': [0, 0, 1, 1, 0, 0, 1, 1],\n",
       " 'bit_1': [0, 0, 0, 0, 1, 1, 1, 1]}"
      ]
     },
     "execution_count": 3,
     "metadata": {},
     "output_type": "execute_result"
    }
   ],
   "source": [
    "dictionary "
   ]
  },
  {
   "cell_type": "code",
   "execution_count": 4,
   "metadata": {},
   "outputs": [
    {
     "data": {
      "text/plain": [
       "[('bit_3', [0, 1, 0, 1, 0, 1, 0, 1]),\n",
       " ('bit_2', [0, 0, 1, 1, 0, 0, 1, 1]),\n",
       " ('bit_1', [0, 0, 0, 0, 1, 1, 1, 1])]"
      ]
     },
     "execution_count": 4,
     "metadata": {},
     "output_type": "execute_result"
    }
   ],
   "source": [
    "list(dictionary.items())"
   ]
  },
  {
   "cell_type": "code",
   "execution_count": 5,
   "metadata": {},
   "outputs": [
    {
     "data": {
      "text/plain": [
       "[('bit_3', [0, 1, 0, 1, 0, 1, 0, 1]),\n",
       " ('bit_2', [0, 0, 1, 1, 0, 0, 1, 1]),\n",
       " ('bit_1', [0, 0, 0, 0, 1, 1, 1, 1])]"
      ]
     },
     "execution_count": 5,
     "metadata": {},
     "output_type": "execute_result"
    }
   ],
   "source": [
    "l = list(dictionary.items())\n",
    "l"
   ]
  },
  {
   "cell_type": "code",
   "execution_count": 6,
   "metadata": {},
   "outputs": [
    {
     "data": {
      "text/plain": [
       "{'bit_1': [0, 0, 0, 0, 1, 1, 1, 1],\n",
       " 'bit_2': [0, 0, 1, 1, 0, 0, 1, 1],\n",
       " 'bit_3': [0, 1, 0, 1, 0, 1, 0, 1]}"
      ]
     },
     "execution_count": 6,
     "metadata": {},
     "output_type": "execute_result"
    }
   ],
   "source": [
    "reversed_dictionary = dict()\n",
    "i = n-1\n",
    "while i >= 0:\n",
    "    reversed_dictionary[l[i][0]] = l[i][1]\n",
    "    i = i - 1\n",
    "reversed_dictionary"
   ]
  },
  {
   "cell_type": "code",
   "execution_count": 7,
   "metadata": {},
   "outputs": [
    {
     "data": {
      "text/plain": [
       "{'bit_1': [0, 0, 0, 0, 1, 1, 1, 1],\n",
       " 'bit_2': [0, 0, 1, 1, 0, 0, 1, 1],\n",
       " 'bit_3': [0, 1, 0, 1, 0, 1, 0, 1]}"
      ]
     },
     "execution_count": 7,
     "metadata": {},
     "output_type": "execute_result"
    }
   ],
   "source": [
    "dictionary = reversed_dictionary\n",
    "dictionary"
   ]
  },
  {
   "cell_type": "code",
   "execution_count": 8,
   "metadata": {},
   "outputs": [
    {
     "data": {
      "text/plain": [
       "[0, 0, 0, 0, 1, 1, 1, 1]"
      ]
     },
     "execution_count": 8,
     "metadata": {},
     "output_type": "execute_result"
    }
   ],
   "source": [
    "output = dictionary['bit_1']\n",
    "output"
   ]
  },
  {
   "cell_type": "code",
   "execution_count": 9,
   "metadata": {},
   "outputs": [
    {
     "data": {
      "text/html": [
       "<div>\n",
       "<style scoped>\n",
       "    .dataframe tbody tr th:only-of-type {\n",
       "        vertical-align: middle;\n",
       "    }\n",
       "\n",
       "    .dataframe tbody tr th {\n",
       "        vertical-align: top;\n",
       "    }\n",
       "\n",
       "    .dataframe thead th {\n",
       "        text-align: right;\n",
       "    }\n",
       "</style>\n",
       "<table border=\"1\" class=\"dataframe\">\n",
       "  <thead>\n",
       "    <tr style=\"text-align: right;\">\n",
       "      <th></th>\n",
       "      <th>bit_1</th>\n",
       "      <th>bit_2</th>\n",
       "      <th>bit_3</th>\n",
       "    </tr>\n",
       "  </thead>\n",
       "  <tbody>\n",
       "    <tr>\n",
       "      <th>0</th>\n",
       "      <td>0</td>\n",
       "      <td>0</td>\n",
       "      <td>0</td>\n",
       "    </tr>\n",
       "    <tr>\n",
       "      <th>1</th>\n",
       "      <td>0</td>\n",
       "      <td>0</td>\n",
       "      <td>1</td>\n",
       "    </tr>\n",
       "    <tr>\n",
       "      <th>2</th>\n",
       "      <td>0</td>\n",
       "      <td>1</td>\n",
       "      <td>0</td>\n",
       "    </tr>\n",
       "    <tr>\n",
       "      <th>3</th>\n",
       "      <td>0</td>\n",
       "      <td>1</td>\n",
       "      <td>1</td>\n",
       "    </tr>\n",
       "    <tr>\n",
       "      <th>4</th>\n",
       "      <td>1</td>\n",
       "      <td>0</td>\n",
       "      <td>0</td>\n",
       "    </tr>\n",
       "    <tr>\n",
       "      <th>5</th>\n",
       "      <td>1</td>\n",
       "      <td>0</td>\n",
       "      <td>1</td>\n",
       "    </tr>\n",
       "    <tr>\n",
       "      <th>6</th>\n",
       "      <td>1</td>\n",
       "      <td>1</td>\n",
       "      <td>0</td>\n",
       "    </tr>\n",
       "    <tr>\n",
       "      <th>7</th>\n",
       "      <td>1</td>\n",
       "      <td>1</td>\n",
       "      <td>1</td>\n",
       "    </tr>\n",
       "  </tbody>\n",
       "</table>\n",
       "</div>"
      ],
      "text/plain": [
       "   bit_1  bit_2  bit_3\n",
       "0      0      0      0\n",
       "1      0      0      1\n",
       "2      0      1      0\n",
       "3      0      1      1\n",
       "4      1      0      0\n",
       "5      1      0      1\n",
       "6      1      1      0\n",
       "7      1      1      1"
      ]
     },
     "execution_count": 9,
     "metadata": {},
     "output_type": "execute_result"
    }
   ],
   "source": [
    "import pandas as pd\n",
    "\n",
    "df = pd.DataFrame(data=dictionary)\n",
    "df"
   ]
  },
  {
   "cell_type": "code",
   "execution_count": 10,
   "metadata": {},
   "outputs": [
    {
     "data": {
      "text/html": [
       "<div>\n",
       "<style scoped>\n",
       "    .dataframe tbody tr th:only-of-type {\n",
       "        vertical-align: middle;\n",
       "    }\n",
       "\n",
       "    .dataframe tbody tr th {\n",
       "        vertical-align: top;\n",
       "    }\n",
       "\n",
       "    .dataframe thead th {\n",
       "        text-align: right;\n",
       "    }\n",
       "</style>\n",
       "<table border=\"1\" class=\"dataframe\">\n",
       "  <thead>\n",
       "    <tr style=\"text-align: right;\">\n",
       "      <th></th>\n",
       "      <th>bit_1</th>\n",
       "      <th>bit_2</th>\n",
       "      <th>bit_3</th>\n",
       "      <th>Output</th>\n",
       "    </tr>\n",
       "  </thead>\n",
       "  <tbody>\n",
       "    <tr>\n",
       "      <th>0</th>\n",
       "      <td>0</td>\n",
       "      <td>0</td>\n",
       "      <td>0</td>\n",
       "      <td>0</td>\n",
       "    </tr>\n",
       "    <tr>\n",
       "      <th>1</th>\n",
       "      <td>0</td>\n",
       "      <td>0</td>\n",
       "      <td>1</td>\n",
       "      <td>0</td>\n",
       "    </tr>\n",
       "    <tr>\n",
       "      <th>2</th>\n",
       "      <td>0</td>\n",
       "      <td>1</td>\n",
       "      <td>0</td>\n",
       "      <td>0</td>\n",
       "    </tr>\n",
       "    <tr>\n",
       "      <th>3</th>\n",
       "      <td>0</td>\n",
       "      <td>1</td>\n",
       "      <td>1</td>\n",
       "      <td>0</td>\n",
       "    </tr>\n",
       "    <tr>\n",
       "      <th>4</th>\n",
       "      <td>1</td>\n",
       "      <td>0</td>\n",
       "      <td>0</td>\n",
       "      <td>1</td>\n",
       "    </tr>\n",
       "    <tr>\n",
       "      <th>5</th>\n",
       "      <td>1</td>\n",
       "      <td>0</td>\n",
       "      <td>1</td>\n",
       "      <td>1</td>\n",
       "    </tr>\n",
       "    <tr>\n",
       "      <th>6</th>\n",
       "      <td>1</td>\n",
       "      <td>1</td>\n",
       "      <td>0</td>\n",
       "      <td>1</td>\n",
       "    </tr>\n",
       "    <tr>\n",
       "      <th>7</th>\n",
       "      <td>1</td>\n",
       "      <td>1</td>\n",
       "      <td>1</td>\n",
       "      <td>1</td>\n",
       "    </tr>\n",
       "  </tbody>\n",
       "</table>\n",
       "</div>"
      ],
      "text/plain": [
       "   bit_1  bit_2  bit_3  Output\n",
       "0      0      0      0       0\n",
       "1      0      0      1       0\n",
       "2      0      1      0       0\n",
       "3      0      1      1       0\n",
       "4      1      0      0       1\n",
       "5      1      0      1       1\n",
       "6      1      1      0       1\n",
       "7      1      1      1       1"
      ]
     },
     "execution_count": 10,
     "metadata": {},
     "output_type": "execute_result"
    }
   ],
   "source": [
    "df['Output'] = output\n",
    "df"
   ]
  },
  {
   "cell_type": "code",
   "execution_count": 11,
   "metadata": {},
   "outputs": [
    {
     "data": {
      "text/html": [
       "<div>\n",
       "<style scoped>\n",
       "    .dataframe tbody tr th:only-of-type {\n",
       "        vertical-align: middle;\n",
       "    }\n",
       "\n",
       "    .dataframe tbody tr th {\n",
       "        vertical-align: top;\n",
       "    }\n",
       "\n",
       "    .dataframe thead th {\n",
       "        text-align: right;\n",
       "    }\n",
       "</style>\n",
       "<table border=\"1\" class=\"dataframe\">\n",
       "  <thead>\n",
       "    <tr style=\"text-align: right;\">\n",
       "      <th></th>\n",
       "      <th>bit_1</th>\n",
       "      <th>bit_2</th>\n",
       "      <th>bit_3</th>\n",
       "    </tr>\n",
       "  </thead>\n",
       "  <tbody>\n",
       "    <tr>\n",
       "      <th>0</th>\n",
       "      <td>0</td>\n",
       "      <td>0</td>\n",
       "      <td>0</td>\n",
       "    </tr>\n",
       "    <tr>\n",
       "      <th>1</th>\n",
       "      <td>0</td>\n",
       "      <td>0</td>\n",
       "      <td>1</td>\n",
       "    </tr>\n",
       "    <tr>\n",
       "      <th>2</th>\n",
       "      <td>0</td>\n",
       "      <td>1</td>\n",
       "      <td>0</td>\n",
       "    </tr>\n",
       "    <tr>\n",
       "      <th>3</th>\n",
       "      <td>0</td>\n",
       "      <td>1</td>\n",
       "      <td>1</td>\n",
       "    </tr>\n",
       "    <tr>\n",
       "      <th>4</th>\n",
       "      <td>1</td>\n",
       "      <td>0</td>\n",
       "      <td>0</td>\n",
       "    </tr>\n",
       "    <tr>\n",
       "      <th>5</th>\n",
       "      <td>1</td>\n",
       "      <td>0</td>\n",
       "      <td>1</td>\n",
       "    </tr>\n",
       "    <tr>\n",
       "      <th>6</th>\n",
       "      <td>1</td>\n",
       "      <td>1</td>\n",
       "      <td>0</td>\n",
       "    </tr>\n",
       "    <tr>\n",
       "      <th>7</th>\n",
       "      <td>1</td>\n",
       "      <td>1</td>\n",
       "      <td>1</td>\n",
       "    </tr>\n",
       "  </tbody>\n",
       "</table>\n",
       "</div>"
      ],
      "text/plain": [
       "   bit_1  bit_2  bit_3\n",
       "0      0      0      0\n",
       "1      0      0      1\n",
       "2      0      1      0\n",
       "3      0      1      1\n",
       "4      1      0      0\n",
       "5      1      0      1\n",
       "6      1      1      0\n",
       "7      1      1      1"
      ]
     },
     "execution_count": 11,
     "metadata": {},
     "output_type": "execute_result"
    }
   ],
   "source": [
    "df = df.drop('Output',axis=1)\n",
    "df"
   ]
  },
  {
   "attachments": {},
   "cell_type": "markdown",
   "metadata": {},
   "source": [
    "## Train Test Split"
   ]
  },
  {
   "cell_type": "code",
   "execution_count": 12,
   "metadata": {},
   "outputs": [
    {
     "name": "stdout",
     "output_type": "stream",
     "text": [
      "Train Percentage : 60\n",
      "Test Percentage : 40\n"
     ]
    }
   ],
   "source": [
    "train_percentage = 60\n",
    "test_percentage = 100 - train_percentage\n",
    "\n",
    "print('Train Percentage :',train_percentage)\n",
    "print('Test Percentage :',test_percentage)"
   ]
  },
  {
   "cell_type": "code",
   "execution_count": 13,
   "metadata": {},
   "outputs": [
    {
     "name": "stdout",
     "output_type": "stream",
     "text": [
      "No of Train Data : 5\n",
      "No of Test Data : 3\n"
     ]
    }
   ],
   "source": [
    "import math\n",
    "\n",
    "no_of_train_data = math.ceil(( total_number * train_percentage ) / 100)\n",
    "no_of_test_data = total_number - no_of_train_data\n",
    "\n",
    "print('No of Train Data :',no_of_train_data)\n",
    "print('No of Test Data :',no_of_test_data)"
   ]
  },
  {
   "attachments": {},
   "cell_type": "markdown",
   "metadata": {},
   "source": [
    "## Inititalizing Wij , bj , Wjk and bk with random values"
   ]
  },
  {
   "cell_type": "code",
   "execution_count": 14,
   "metadata": {},
   "outputs": [
    {
     "name": "stdout",
     "output_type": "stream",
     "text": [
      "Total Class in Output : 2\n"
     ]
    }
   ],
   "source": [
    "# n is the number of nodes in input layer and hidden layer\n",
    "# m is the number of nodes in output layer\n",
    "\n",
    "unique = dict()\n",
    "\n",
    "for i in output:\n",
    "    if i not in unique:\n",
    "        unique[i] = 1\n",
    "    else:\n",
    "        unique[i] = unique[i] + 1\n",
    "\n",
    "print('Total Class in Output :',len(unique))"
   ]
  },
  {
   "cell_type": "code",
   "execution_count": 15,
   "metadata": {},
   "outputs": [
    {
     "name": "stdout",
     "output_type": "stream",
     "text": [
      "Number of nodes in input layer : 3\n",
      "Number of nodes in hidden layer : 3\n",
      "Number of nodes in output layer : 1\n"
     ]
    }
   ],
   "source": [
    "import numpy as np\n",
    "import math\n",
    "\n",
    "# n will be as it is\n",
    "m = math.ceil(np.log2(len(unique)))\n",
    "\n",
    "print('Number of nodes in input layer :',n)\n",
    "print('Number of nodes in hidden layer :',n)\n",
    "print('Number of nodes in output layer :',m)"
   ]
  },
  {
   "cell_type": "code",
   "execution_count": 16,
   "metadata": {},
   "outputs": [],
   "source": [
    "np.random.seed(113)\n",
    "Wij = np.random.rand(n,n)\n",
    "bj = np.random.rand(n)\n",
    "Wjk = np.random.rand(n,m)\n",
    "bk = np.random.rand(m)"
   ]
  },
  {
   "cell_type": "code",
   "execution_count": 17,
   "metadata": {},
   "outputs": [
    {
     "name": "stdout",
     "output_type": "stream",
     "text": [
      "Weights from i to j :\n",
      " [[0.85198549 0.0739036  0.89493176]\n",
      " [0.43649355 0.12767773 0.57585787]\n",
      " [0.84047092 0.43512055 0.69591056]]\n",
      "\n",
      "Bias to j :\n",
      " [0.6846381  0.70064837 0.77969426]\n",
      "\n",
      "Weights from j to k :\n",
      " [[0.64274937]\n",
      " [0.96102617]\n",
      " [0.10846489]]\n",
      "\n",
      "Bias to k :\n",
      " [0.79610634]\n"
     ]
    }
   ],
   "source": [
    "print('Weights from i to j :\\n',Wij)\n",
    "print('\\nBias to j :\\n',bj)\n",
    "print('\\nWeights from j to k :\\n',Wjk)\n",
    "print('\\nBias to k :\\n',bk)"
   ]
  },
  {
   "cell_type": "code",
   "execution_count": 18,
   "metadata": {},
   "outputs": [
    {
     "data": {
      "text/plain": [
       "0.8519854927300882"
      ]
     },
     "execution_count": 18,
     "metadata": {},
     "output_type": "execute_result"
    }
   ],
   "source": [
    "Wij[0,0]"
   ]
  },
  {
   "attachments": {},
   "cell_type": "markdown",
   "metadata": {},
   "source": [
    "## Initializing Oi , netj , Oj and netk with 0"
   ]
  },
  {
   "cell_type": "code",
   "execution_count": 19,
   "metadata": {},
   "outputs": [],
   "source": [
    "Oi = np.zeros(n)\n",
    "\n",
    "netj = np.zeros(n)\n",
    "activj = np.zeros(n)\n",
    "Oj = np.zeros(n)\n",
    "\n",
    "netk = np.zeros(m)\n",
    "activk = np.zeros(m)\n",
    "Ok = np.zeros(m)"
   ]
  },
  {
   "cell_type": "code",
   "execution_count": 20,
   "metadata": {},
   "outputs": [],
   "source": [
    "# learning rate\n",
    "learning_rate = 0.5"
   ]
  },
  {
   "attachments": {},
   "cell_type": "markdown",
   "metadata": {},
   "source": [
    "## initializing delta_Wjk , delta_bk , delta_Wij , delta_bj with 0"
   ]
  },
  {
   "cell_type": "code",
   "execution_count": 21,
   "metadata": {},
   "outputs": [],
   "source": [
    "delta_Wjk = np.zeros((n,m))\n",
    "delta_bk = np.zeros(m)\n",
    "delta_Wij = np.zeros((n,n))\n",
    "delta_bj = np.zeros(n)"
   ]
  },
  {
   "attachments": {},
   "cell_type": "markdown",
   "metadata": {},
   "source": [
    "## Forward Propagation and Backward Propagation"
   ]
  },
  {
   "cell_type": "code",
   "execution_count": 22,
   "metadata": {},
   "outputs": [
    {
     "data": {
      "text/html": [
       "<div>\n",
       "<style scoped>\n",
       "    .dataframe tbody tr th:only-of-type {\n",
       "        vertical-align: middle;\n",
       "    }\n",
       "\n",
       "    .dataframe tbody tr th {\n",
       "        vertical-align: top;\n",
       "    }\n",
       "\n",
       "    .dataframe thead th {\n",
       "        text-align: right;\n",
       "    }\n",
       "</style>\n",
       "<table border=\"1\" class=\"dataframe\">\n",
       "  <thead>\n",
       "    <tr style=\"text-align: right;\">\n",
       "      <th></th>\n",
       "      <th>bit_1</th>\n",
       "      <th>bit_2</th>\n",
       "      <th>bit_3</th>\n",
       "    </tr>\n",
       "  </thead>\n",
       "  <tbody>\n",
       "    <tr>\n",
       "      <th>0</th>\n",
       "      <td>0</td>\n",
       "      <td>0</td>\n",
       "      <td>0</td>\n",
       "    </tr>\n",
       "    <tr>\n",
       "      <th>1</th>\n",
       "      <td>0</td>\n",
       "      <td>0</td>\n",
       "      <td>1</td>\n",
       "    </tr>\n",
       "    <tr>\n",
       "      <th>2</th>\n",
       "      <td>0</td>\n",
       "      <td>1</td>\n",
       "      <td>0</td>\n",
       "    </tr>\n",
       "    <tr>\n",
       "      <th>3</th>\n",
       "      <td>0</td>\n",
       "      <td>1</td>\n",
       "      <td>1</td>\n",
       "    </tr>\n",
       "    <tr>\n",
       "      <th>4</th>\n",
       "      <td>1</td>\n",
       "      <td>0</td>\n",
       "      <td>0</td>\n",
       "    </tr>\n",
       "    <tr>\n",
       "      <th>5</th>\n",
       "      <td>1</td>\n",
       "      <td>0</td>\n",
       "      <td>1</td>\n",
       "    </tr>\n",
       "    <tr>\n",
       "      <th>6</th>\n",
       "      <td>1</td>\n",
       "      <td>1</td>\n",
       "      <td>0</td>\n",
       "    </tr>\n",
       "    <tr>\n",
       "      <th>7</th>\n",
       "      <td>1</td>\n",
       "      <td>1</td>\n",
       "      <td>1</td>\n",
       "    </tr>\n",
       "  </tbody>\n",
       "</table>\n",
       "</div>"
      ],
      "text/plain": [
       "   bit_1  bit_2  bit_3\n",
       "0      0      0      0\n",
       "1      0      0      1\n",
       "2      0      1      0\n",
       "3      0      1      1\n",
       "4      1      0      0\n",
       "5      1      0      1\n",
       "6      1      1      0\n",
       "7      1      1      1"
      ]
     },
     "execution_count": 22,
     "metadata": {},
     "output_type": "execute_result"
    }
   ],
   "source": [
    "df"
   ]
  },
  {
   "cell_type": "code",
   "execution_count": 23,
   "metadata": {},
   "outputs": [
    {
     "data": {
      "text/plain": [
       "[0, 0, 0, 0, 1, 1, 1, 1]"
      ]
     },
     "execution_count": 23,
     "metadata": {},
     "output_type": "execute_result"
    }
   ],
   "source": [
    "output"
   ]
  },
  {
   "cell_type": "code",
   "execution_count": 24,
   "metadata": {},
   "outputs": [
    {
     "data": {
      "text/plain": [
       "1"
      ]
     },
     "execution_count": 24,
     "metadata": {},
     "output_type": "execute_result"
    }
   ],
   "source": [
    "df[df.columns[0]][4]"
   ]
  },
  {
   "cell_type": "code",
   "execution_count": 25,
   "metadata": {},
   "outputs": [
    {
     "data": {
      "text/plain": [
       "2.718281828459045"
      ]
     },
     "execution_count": 25,
     "metadata": {},
     "output_type": "execute_result"
    }
   ],
   "source": [
    "np.exp(1)"
   ]
  },
  {
   "cell_type": "code",
   "execution_count": 26,
   "metadata": {},
   "outputs": [
    {
     "data": {
      "text/plain": [
       "3"
      ]
     },
     "execution_count": 26,
     "metadata": {},
     "output_type": "execute_result"
    }
   ],
   "source": [
    "n"
   ]
  },
  {
   "cell_type": "code",
   "execution_count": 27,
   "metadata": {},
   "outputs": [],
   "source": [
    "l = list()\n",
    "count = 0\n",
    "while count != no_of_train_data :\n",
    "    for row in range(no_of_train_data):\n",
    "        # forward propagation starts\n",
    "\n",
    "        for column in range(len(df.columns)):\n",
    "            Oi[column] = df.iloc[row,column]\n",
    "            \n",
    "        for i in range(n):\n",
    "            for j in range(n):\n",
    "                netj[j] = netj[j] + Oi[i] * Wij[i,j]\n",
    "        \n",
    "        \n",
    "        for j in range(n):\n",
    "            activj[j] = netj[j] + bj[j]\n",
    "        \n",
    "        for j in range(n):\n",
    "            Oj[j] = 1 / (1 + np.exp(-1*activj[j]))\n",
    "\n",
    "        for j in range(n):\n",
    "            for k in range(m):\n",
    "                netk[k] = netk[k] + Oj[j] * Wjk[j,k]\n",
    "\n",
    "        for k in range(m):\n",
    "            activk[k] = netk[k] + bk[k]\n",
    "        \n",
    "        for k in range(m):\n",
    "            Ok[k] = 1 / (1 + np.exp(-1*activk[k]))\n",
    "        \n",
    "        delta = output[row] - Ok[0] # not generalized\n",
    "        error = 0.5 * ( delta ** 2)\n",
    "        if error <= 0.01:\n",
    "            l.append(Ok[0])\n",
    "            count = count + 1\n",
    "            netj = np.zeros(n)\n",
    "            netk = np.zeros(m)\n",
    "            continue\n",
    "        \n",
    "        \n",
    "        # Backpropagation starts\n",
    "\n",
    "        for j in range(n):\n",
    "            for k in range(m):\n",
    "                delta_Wjk[j,k] = learning_rate * delta * Oj[j] * Ok[k] * (1 - Ok[k])\n",
    "        \n",
    "        for j in range(n):\n",
    "            for k in range(m):\n",
    "                Wjk[j,k] = Wjk[j,k] + delta_Wjk[j,k]\n",
    "\n",
    "        for k in range(m):\n",
    "            delta_bk[k] = learning_rate * delta * Ok[k] * (1 - Ok[k])\n",
    "\n",
    "        for k in range(m):\n",
    "            bk[k] = bk[k] + delta_bk[k]\n",
    "        \n",
    "        summation = 0\n",
    "        for j in range(n):\n",
    "            summation = summation + Wjk[j,0] * delta\n",
    "\n",
    "        for i in range(n):\n",
    "            for j in range(n):\n",
    "                delta_Wij[i,j] = learning_rate * Oi[i] * Oj[j] * (1-Oj[j]) * summation\n",
    "\n",
    "        for i in range(n):\n",
    "            for j in range(n):\n",
    "                Wij[i,j] = Wij[i,j] + delta_Wij[i,j]\n",
    "\n",
    "        for j in range(n):\n",
    "            delta_bj[j] = learning_rate * Oj[j] * (1 - Oj[j]) * summation\n",
    "\n",
    "        for j in range(n):\n",
    "            bj[j] = bj[j] + delta_bj[j] \n",
    "\n",
    "        netj = np.zeros(n)\n",
    "        netk = np.zeros(m)\n",
    "        count = 0\n",
    "        l = list()\n",
    "        break      "
   ]
  },
  {
   "cell_type": "code",
   "execution_count": 28,
   "metadata": {},
   "outputs": [
    {
     "data": {
      "text/plain": [
       "10"
      ]
     },
     "execution_count": 28,
     "metadata": {},
     "output_type": "execute_result"
    }
   ],
   "source": [
    "count"
   ]
  },
  {
   "cell_type": "code",
   "execution_count": 29,
   "metadata": {},
   "outputs": [
    {
     "data": {
      "text/plain": [
       "[0.13860830144318903,\n",
       " 0.11418434918960044,\n",
       " 0.10888551745357877,\n",
       " 0.09765934984803684,\n",
       " 0.11732680057811581,\n",
       " 0.10206618514048248,\n",
       " 0.09910573770542183,\n",
       " 0.09194846080211491,\n",
       " 0.8683331736813442,\n",
       " 0.8601205469920238]"
      ]
     },
     "execution_count": 29,
     "metadata": {},
     "output_type": "execute_result"
    }
   ],
   "source": [
    "l"
   ]
  },
  {
   "cell_type": "code",
   "execution_count": 30,
   "metadata": {},
   "outputs": [
    {
     "name": "stdout",
     "output_type": "stream",
     "text": [
      "[0.010175588270903613, 0.010216402747925865, 0.010216622044655751, 0.01021662425910416, 0.010216624284780242, 0.010216624285336566]\n",
      "No of Test Data : 6\n",
      "Right : 0\n",
      "Wrong : 6\n",
      "Accuracy : 0.0\n"
     ]
    }
   ],
   "source": [
    "right = 0\n",
    "wrong = 0\n",
    "l = list()\n",
    "for row in range(no_of_train_data,total_number):\n",
    "    # forward propagation starts\n",
    "\n",
    "    for column in range(len(df.columns)):\n",
    "        Oi[column] = df[df.columns[column]][row]\n",
    "        \n",
    "    for i in range(n):\n",
    "        for j in range(n):\n",
    "            netj[j] = netj[j] + Oi[i] * Wij[i,j]\n",
    "    \n",
    "    \n",
    "    for j in range(n):\n",
    "        activj[j] = netj[j] + bj[j]\n",
    "    \n",
    "    for j in range(n):\n",
    "        Oj[j] = 1 / (1 + np.exp(-1*activj[j]))\n",
    "\n",
    "    for j in range(n):\n",
    "        for k in range(m):\n",
    "            netk[k] = netk[k] + Oj[j] * Wjk[j,k]\n",
    "\n",
    "    for k in range(m):\n",
    "        activk[k] = netk[k] + bk[k]\n",
    "    \n",
    "    for k in range(m):\n",
    "        Ok[k] = 1 / (1 + np.exp(-1*activk[k]))\n",
    "    \n",
    "    delta = output[row] - Ok[0] # not generalized\n",
    "    error = 0.5 * ( delta ** 2)\n",
    "    l.append(error)\n",
    "\n",
    "    if error <= 0.01:\n",
    "        right = right + 1\n",
    "    else:\n",
    "        wrong = wrong + 1\n",
    "    \n",
    "accuracy = ( right * 100 ) / no_of_test_data\n",
    "\n",
    "print(l)\n",
    "print(\"No of Test Data :\",no_of_test_data)\n",
    "print(\"Right :\",right)\n",
    "print(\"Wrong :\",wrong)\n",
    "print(\"Accuracy :\",accuracy)"
   ]
  }
 ],
 "metadata": {
  "kernelspec": {
   "display_name": "main",
   "language": "python",
   "name": "python3"
  },
  "language_info": {
   "codemirror_mode": {
    "name": "ipython",
    "version": 3
   },
   "file_extension": ".py",
   "mimetype": "text/x-python",
   "name": "python",
   "nbconvert_exporter": "python",
   "pygments_lexer": "ipython3",
   "version": "3.10.4"
  },
  "orig_nbformat": 4,
  "vscode": {
   "interpreter": {
    "hash": "3c2bffaee89cf6b7f3c794e822ddbdb6f04ecad65453ff2af94a3d486d7f8578"
   }
  }
 },
 "nbformat": 4,
 "nbformat_minor": 2
}
