{
 "cells": [
  {
   "cell_type": "markdown",
   "metadata": {},
   "source": [
    "# Single Perceptron for n bit data\n"
   ]
  },
  {
   "cell_type": "markdown",
   "metadata": {},
   "source": [
    "## Library"
   ]
  },
  {
   "cell_type": "code",
   "execution_count": 1,
   "metadata": {},
   "outputs": [],
   "source": [
    "import numpy as np\n",
    "import pandas as pd\n",
    "import seaborn as sns\n",
    "import matplotlib.pyplot as plt \n",
    "import math "
   ]
  },
  {
   "cell_type": "markdown",
   "metadata": {},
   "source": [
    "## Dataset"
   ]
  },
  {
   "cell_type": "code",
   "execution_count": 2,
   "metadata": {},
   "outputs": [
    {
     "data": {
      "text/html": [
       "<div>\n",
       "<style scoped>\n",
       "    .dataframe tbody tr th:only-of-type {\n",
       "        vertical-align: middle;\n",
       "    }\n",
       "\n",
       "    .dataframe tbody tr th {\n",
       "        vertical-align: top;\n",
       "    }\n",
       "\n",
       "    .dataframe thead th {\n",
       "        text-align: right;\n",
       "    }\n",
       "</style>\n",
       "<table border=\"1\" class=\"dataframe\">\n",
       "  <thead>\n",
       "    <tr style=\"text-align: right;\">\n",
       "      <th></th>\n",
       "      <th>sex</th>\n",
       "      <th>age</th>\n",
       "      <th>Time</th>\n",
       "      <th>Number_of_Warts</th>\n",
       "      <th>Type</th>\n",
       "      <th>Area</th>\n",
       "      <th>Result_of_Treatment</th>\n",
       "    </tr>\n",
       "  </thead>\n",
       "  <tbody>\n",
       "    <tr>\n",
       "      <th>0</th>\n",
       "      <td>1</td>\n",
       "      <td>35</td>\n",
       "      <td>12.00</td>\n",
       "      <td>5</td>\n",
       "      <td>1</td>\n",
       "      <td>100</td>\n",
       "      <td>0</td>\n",
       "    </tr>\n",
       "    <tr>\n",
       "      <th>1</th>\n",
       "      <td>1</td>\n",
       "      <td>29</td>\n",
       "      <td>7.00</td>\n",
       "      <td>5</td>\n",
       "      <td>1</td>\n",
       "      <td>96</td>\n",
       "      <td>1</td>\n",
       "    </tr>\n",
       "    <tr>\n",
       "      <th>2</th>\n",
       "      <td>1</td>\n",
       "      <td>50</td>\n",
       "      <td>8.00</td>\n",
       "      <td>1</td>\n",
       "      <td>3</td>\n",
       "      <td>132</td>\n",
       "      <td>0</td>\n",
       "    </tr>\n",
       "    <tr>\n",
       "      <th>3</th>\n",
       "      <td>1</td>\n",
       "      <td>32</td>\n",
       "      <td>11.75</td>\n",
       "      <td>7</td>\n",
       "      <td>3</td>\n",
       "      <td>750</td>\n",
       "      <td>0</td>\n",
       "    </tr>\n",
       "    <tr>\n",
       "      <th>4</th>\n",
       "      <td>1</td>\n",
       "      <td>67</td>\n",
       "      <td>9.25</td>\n",
       "      <td>1</td>\n",
       "      <td>1</td>\n",
       "      <td>42</td>\n",
       "      <td>0</td>\n",
       "    </tr>\n",
       "    <tr>\n",
       "      <th>...</th>\n",
       "      <td>...</td>\n",
       "      <td>...</td>\n",
       "      <td>...</td>\n",
       "      <td>...</td>\n",
       "      <td>...</td>\n",
       "      <td>...</td>\n",
       "      <td>...</td>\n",
       "    </tr>\n",
       "    <tr>\n",
       "      <th>85</th>\n",
       "      <td>2</td>\n",
       "      <td>34</td>\n",
       "      <td>12.00</td>\n",
       "      <td>3</td>\n",
       "      <td>3</td>\n",
       "      <td>95</td>\n",
       "      <td>0</td>\n",
       "    </tr>\n",
       "    <tr>\n",
       "      <th>86</th>\n",
       "      <td>2</td>\n",
       "      <td>20</td>\n",
       "      <td>3.50</td>\n",
       "      <td>6</td>\n",
       "      <td>1</td>\n",
       "      <td>75</td>\n",
       "      <td>1</td>\n",
       "    </tr>\n",
       "    <tr>\n",
       "      <th>87</th>\n",
       "      <td>2</td>\n",
       "      <td>35</td>\n",
       "      <td>8.25</td>\n",
       "      <td>8</td>\n",
       "      <td>3</td>\n",
       "      <td>100</td>\n",
       "      <td>0</td>\n",
       "    </tr>\n",
       "    <tr>\n",
       "      <th>88</th>\n",
       "      <td>1</td>\n",
       "      <td>24</td>\n",
       "      <td>10.75</td>\n",
       "      <td>10</td>\n",
       "      <td>1</td>\n",
       "      <td>20</td>\n",
       "      <td>1</td>\n",
       "    </tr>\n",
       "    <tr>\n",
       "      <th>89</th>\n",
       "      <td>1</td>\n",
       "      <td>19</td>\n",
       "      <td>8.00</td>\n",
       "      <td>8</td>\n",
       "      <td>1</td>\n",
       "      <td>160</td>\n",
       "      <td>1</td>\n",
       "    </tr>\n",
       "  </tbody>\n",
       "</table>\n",
       "<p>90 rows × 7 columns</p>\n",
       "</div>"
      ],
      "text/plain": [
       "    sex  age   Time  Number_of_Warts  Type  Area  Result_of_Treatment\n",
       "0     1   35  12.00                5     1   100                    0\n",
       "1     1   29   7.00                5     1    96                    1\n",
       "2     1   50   8.00                1     3   132                    0\n",
       "3     1   32  11.75                7     3   750                    0\n",
       "4     1   67   9.25                1     1    42                    0\n",
       "..  ...  ...    ...              ...   ...   ...                  ...\n",
       "85    2   34  12.00                3     3    95                    0\n",
       "86    2   20   3.50                6     1    75                    1\n",
       "87    2   35   8.25                8     3   100                    0\n",
       "88    1   24  10.75               10     1    20                    1\n",
       "89    1   19   8.00                8     1   160                    1\n",
       "\n",
       "[90 rows x 7 columns]"
      ]
     },
     "execution_count": 2,
     "metadata": {},
     "output_type": "execute_result"
    }
   ],
   "source": [
    "df = pd.read_excel('Cryotherapy.xlsx')\n",
    "df"
   ]
  },
  {
   "cell_type": "code",
   "execution_count": 3,
   "metadata": {},
   "outputs": [
    {
     "data": {
      "text/plain": [
       "0     0\n",
       "1     1\n",
       "2     0\n",
       "3     0\n",
       "4     0\n",
       "     ..\n",
       "85    0\n",
       "86    1\n",
       "87    0\n",
       "88    1\n",
       "89    1\n",
       "Name: Result_of_Treatment, Length: 90, dtype: int64"
      ]
     },
     "execution_count": 3,
     "metadata": {},
     "output_type": "execute_result"
    }
   ],
   "source": [
    "output = df['Result_of_Treatment']\n",
    "output"
   ]
  },
  {
   "cell_type": "code",
   "execution_count": 4,
   "metadata": {},
   "outputs": [
    {
     "data": {
      "text/plain": [
       "1    48\n",
       "0    42\n",
       "Name: Result_of_Treatment, dtype: int64"
      ]
     },
     "execution_count": 4,
     "metadata": {},
     "output_type": "execute_result"
    }
   ],
   "source": [
    "df['Result_of_Treatment'].value_counts()"
   ]
  },
  {
   "cell_type": "code",
   "execution_count": 5,
   "metadata": {},
   "outputs": [
    {
     "data": {
      "text/html": [
       "<div>\n",
       "<style scoped>\n",
       "    .dataframe tbody tr th:only-of-type {\n",
       "        vertical-align: middle;\n",
       "    }\n",
       "\n",
       "    .dataframe tbody tr th {\n",
       "        vertical-align: top;\n",
       "    }\n",
       "\n",
       "    .dataframe thead th {\n",
       "        text-align: right;\n",
       "    }\n",
       "</style>\n",
       "<table border=\"1\" class=\"dataframe\">\n",
       "  <thead>\n",
       "    <tr style=\"text-align: right;\">\n",
       "      <th></th>\n",
       "      <th>sex</th>\n",
       "      <th>age</th>\n",
       "      <th>Time</th>\n",
       "      <th>Number_of_Warts</th>\n",
       "      <th>Type</th>\n",
       "      <th>Area</th>\n",
       "    </tr>\n",
       "  </thead>\n",
       "  <tbody>\n",
       "    <tr>\n",
       "      <th>0</th>\n",
       "      <td>1</td>\n",
       "      <td>35</td>\n",
       "      <td>12.00</td>\n",
       "      <td>5</td>\n",
       "      <td>1</td>\n",
       "      <td>100</td>\n",
       "    </tr>\n",
       "    <tr>\n",
       "      <th>1</th>\n",
       "      <td>1</td>\n",
       "      <td>29</td>\n",
       "      <td>7.00</td>\n",
       "      <td>5</td>\n",
       "      <td>1</td>\n",
       "      <td>96</td>\n",
       "    </tr>\n",
       "    <tr>\n",
       "      <th>2</th>\n",
       "      <td>1</td>\n",
       "      <td>50</td>\n",
       "      <td>8.00</td>\n",
       "      <td>1</td>\n",
       "      <td>3</td>\n",
       "      <td>132</td>\n",
       "    </tr>\n",
       "    <tr>\n",
       "      <th>3</th>\n",
       "      <td>1</td>\n",
       "      <td>32</td>\n",
       "      <td>11.75</td>\n",
       "      <td>7</td>\n",
       "      <td>3</td>\n",
       "      <td>750</td>\n",
       "    </tr>\n",
       "    <tr>\n",
       "      <th>4</th>\n",
       "      <td>1</td>\n",
       "      <td>67</td>\n",
       "      <td>9.25</td>\n",
       "      <td>1</td>\n",
       "      <td>1</td>\n",
       "      <td>42</td>\n",
       "    </tr>\n",
       "    <tr>\n",
       "      <th>...</th>\n",
       "      <td>...</td>\n",
       "      <td>...</td>\n",
       "      <td>...</td>\n",
       "      <td>...</td>\n",
       "      <td>...</td>\n",
       "      <td>...</td>\n",
       "    </tr>\n",
       "    <tr>\n",
       "      <th>85</th>\n",
       "      <td>2</td>\n",
       "      <td>34</td>\n",
       "      <td>12.00</td>\n",
       "      <td>3</td>\n",
       "      <td>3</td>\n",
       "      <td>95</td>\n",
       "    </tr>\n",
       "    <tr>\n",
       "      <th>86</th>\n",
       "      <td>2</td>\n",
       "      <td>20</td>\n",
       "      <td>3.50</td>\n",
       "      <td>6</td>\n",
       "      <td>1</td>\n",
       "      <td>75</td>\n",
       "    </tr>\n",
       "    <tr>\n",
       "      <th>87</th>\n",
       "      <td>2</td>\n",
       "      <td>35</td>\n",
       "      <td>8.25</td>\n",
       "      <td>8</td>\n",
       "      <td>3</td>\n",
       "      <td>100</td>\n",
       "    </tr>\n",
       "    <tr>\n",
       "      <th>88</th>\n",
       "      <td>1</td>\n",
       "      <td>24</td>\n",
       "      <td>10.75</td>\n",
       "      <td>10</td>\n",
       "      <td>1</td>\n",
       "      <td>20</td>\n",
       "    </tr>\n",
       "    <tr>\n",
       "      <th>89</th>\n",
       "      <td>1</td>\n",
       "      <td>19</td>\n",
       "      <td>8.00</td>\n",
       "      <td>8</td>\n",
       "      <td>1</td>\n",
       "      <td>160</td>\n",
       "    </tr>\n",
       "  </tbody>\n",
       "</table>\n",
       "<p>90 rows × 6 columns</p>\n",
       "</div>"
      ],
      "text/plain": [
       "    sex  age   Time  Number_of_Warts  Type  Area\n",
       "0     1   35  12.00                5     1   100\n",
       "1     1   29   7.00                5     1    96\n",
       "2     1   50   8.00                1     3   132\n",
       "3     1   32  11.75                7     3   750\n",
       "4     1   67   9.25                1     1    42\n",
       "..  ...  ...    ...              ...   ...   ...\n",
       "85    2   34  12.00                3     3    95\n",
       "86    2   20   3.50                6     1    75\n",
       "87    2   35   8.25                8     3   100\n",
       "88    1   24  10.75               10     1    20\n",
       "89    1   19   8.00                8     1   160\n",
       "\n",
       "[90 rows x 6 columns]"
      ]
     },
     "execution_count": 5,
     "metadata": {},
     "output_type": "execute_result"
    }
   ],
   "source": [
    "df = df.drop('Result_of_Treatment',axis=1)\n",
    "df"
   ]
  },
  {
   "cell_type": "code",
   "execution_count": 6,
   "metadata": {},
   "outputs": [],
   "source": [
    "# number of features or columns\n",
    "n = len(df.columns)\n",
    "total_number = len(df) "
   ]
  },
  {
   "attachments": {},
   "cell_type": "markdown",
   "metadata": {},
   "source": [
    "## Train Test Split"
   ]
  },
  {
   "cell_type": "code",
   "execution_count": 7,
   "metadata": {},
   "outputs": [
    {
     "name": "stdout",
     "output_type": "stream",
     "text": [
      "Train Percentage : 70\n",
      "Test Percentage : 30\n"
     ]
    }
   ],
   "source": [
    "train_percentage = 70\n",
    "test_percentage = 100 - train_percentage\n",
    "\n",
    "print('Train Percentage :',train_percentage)\n",
    "print('Test Percentage :',test_percentage)"
   ]
  },
  {
   "cell_type": "code",
   "execution_count": 8,
   "metadata": {},
   "outputs": [
    {
     "name": "stdout",
     "output_type": "stream",
     "text": [
      "No of Train Data : 63\n",
      "No of Test Data : 27\n"
     ]
    }
   ],
   "source": [
    "import math\n",
    "\n",
    "no_of_train_data = math.ceil(( total_number * train_percentage ) / 100)\n",
    "no_of_test_data = total_number - no_of_train_data\n",
    "\n",
    "print('No of Train Data :',no_of_train_data)\n",
    "print('No of Test Data :',no_of_test_data)"
   ]
  },
  {
   "attachments": {},
   "cell_type": "markdown",
   "metadata": {},
   "source": [
    "## Inititalizing Wij , bj , Wjk and bk with random values"
   ]
  },
  {
   "cell_type": "code",
   "execution_count": 9,
   "metadata": {},
   "outputs": [
    {
     "name": "stdout",
     "output_type": "stream",
     "text": [
      "Total Class in Output : 2\n"
     ]
    }
   ],
   "source": [
    "# n is the number of nodes in input layer and hidden layer\n",
    "# m is the number of nodes in output layer\n",
    "\n",
    "unique = dict()\n",
    "\n",
    "for i in output:\n",
    "    if i not in unique:\n",
    "        unique[i] = 1\n",
    "    else:\n",
    "        unique[i] = unique[i] + 1\n",
    "\n",
    "print('Total Class in Output :',len(unique))"
   ]
  },
  {
   "cell_type": "code",
   "execution_count": 10,
   "metadata": {},
   "outputs": [
    {
     "name": "stdout",
     "output_type": "stream",
     "text": [
      "Number of nodes in input layer : 6\n",
      "Number of nodes in hidden layer : 6\n",
      "Number of nodes in output layer : 1\n"
     ]
    }
   ],
   "source": [
    "import numpy as np\n",
    "import math\n",
    "\n",
    "# n will be as it is\n",
    "m = math.ceil(np.log2(len(unique)))\n",
    "\n",
    "print('Number of nodes in input layer :',n)\n",
    "print('Number of nodes in hidden layer :',n)\n",
    "print('Number of nodes in output layer :',m)"
   ]
  },
  {
   "cell_type": "code",
   "execution_count": 11,
   "metadata": {},
   "outputs": [],
   "source": [
    "np.random.seed(113)\n",
    "Wij = np.random.rand(n,n)\n",
    "bj = np.random.rand(n)\n",
    "Wjk = np.random.rand(n,m)\n",
    "bk = np.random.rand(m)"
   ]
  },
  {
   "cell_type": "code",
   "execution_count": 12,
   "metadata": {},
   "outputs": [
    {
     "name": "stdout",
     "output_type": "stream",
     "text": [
      "Weights from i to j :\n",
      " [[0.85198549 0.0739036  0.89493176 0.43649355 0.12767773 0.57585787]\n",
      " [0.84047092 0.43512055 0.69591056 0.6846381  0.70064837 0.77969426]\n",
      " [0.64274937 0.96102617 0.10846489 0.79610634 0.83258008 0.26600836]\n",
      " [0.83668539 0.53212691 0.51690756 0.09858771 0.91886899 0.66665849]\n",
      " [0.17477948 0.21769151 0.46787528 0.43589124 0.88935448 0.22259927]\n",
      " [0.58901937 0.27720157 0.52572218 0.25935711 0.52894863 0.31214075]]\n",
      "\n",
      "Bias to j :\n",
      " [0.54416225 0.2420565  0.09423802 0.18946638 0.15028533 0.89444684]\n",
      "\n",
      "Weights from j to k :\n",
      " [[0.3007521 ]\n",
      " [0.27286447]\n",
      " [0.00647975]\n",
      " [0.59801345]\n",
      " [0.79435088]\n",
      " [0.59862107]]\n",
      "\n",
      "Bias to k :\n",
      " [0.61498669]\n"
     ]
    }
   ],
   "source": [
    "print('Weights from i to j :\\n',Wij)\n",
    "print('\\nBias to j :\\n',bj)\n",
    "print('\\nWeights from j to k :\\n',Wjk)\n",
    "print('\\nBias to k :\\n',bk)"
   ]
  },
  {
   "cell_type": "code",
   "execution_count": 13,
   "metadata": {},
   "outputs": [
    {
     "data": {
      "text/plain": [
       "0.8519854927300882"
      ]
     },
     "execution_count": 13,
     "metadata": {},
     "output_type": "execute_result"
    }
   ],
   "source": [
    "Wij[0,0]"
   ]
  },
  {
   "attachments": {},
   "cell_type": "markdown",
   "metadata": {},
   "source": [
    "## Initializing Oi , netj , Oj and netk with 0"
   ]
  },
  {
   "cell_type": "code",
   "execution_count": 14,
   "metadata": {},
   "outputs": [],
   "source": [
    "Oi = np.zeros(n)\n",
    "\n",
    "netj = np.zeros(n)\n",
    "activj = np.zeros(n)\n",
    "Oj = np.zeros(n)\n",
    "\n",
    "netk = np.zeros(m)\n",
    "activk = np.zeros(m)\n",
    "Ok = np.zeros(m)"
   ]
  },
  {
   "cell_type": "code",
   "execution_count": 15,
   "metadata": {},
   "outputs": [],
   "source": [
    "# learning rate\n",
    "learning_rate = 0.5"
   ]
  },
  {
   "attachments": {},
   "cell_type": "markdown",
   "metadata": {},
   "source": [
    "## initializing delta_Wjk , delta_bk , delta_Wij , delta_bj with 0"
   ]
  },
  {
   "cell_type": "code",
   "execution_count": 16,
   "metadata": {},
   "outputs": [],
   "source": [
    "delta_Wjk = np.zeros((n,m))\n",
    "delta_bk = np.zeros(m)\n",
    "delta_Wij = np.zeros((n,n))\n",
    "delta_bj = np.zeros(n)"
   ]
  },
  {
   "attachments": {},
   "cell_type": "markdown",
   "metadata": {},
   "source": [
    "## Forward Propagation and Backward Propagation"
   ]
  },
  {
   "cell_type": "code",
   "execution_count": 17,
   "metadata": {},
   "outputs": [
    {
     "data": {
      "text/html": [
       "<div>\n",
       "<style scoped>\n",
       "    .dataframe tbody tr th:only-of-type {\n",
       "        vertical-align: middle;\n",
       "    }\n",
       "\n",
       "    .dataframe tbody tr th {\n",
       "        vertical-align: top;\n",
       "    }\n",
       "\n",
       "    .dataframe thead th {\n",
       "        text-align: right;\n",
       "    }\n",
       "</style>\n",
       "<table border=\"1\" class=\"dataframe\">\n",
       "  <thead>\n",
       "    <tr style=\"text-align: right;\">\n",
       "      <th></th>\n",
       "      <th>sex</th>\n",
       "      <th>age</th>\n",
       "      <th>Time</th>\n",
       "      <th>Number_of_Warts</th>\n",
       "      <th>Type</th>\n",
       "      <th>Area</th>\n",
       "    </tr>\n",
       "  </thead>\n",
       "  <tbody>\n",
       "    <tr>\n",
       "      <th>0</th>\n",
       "      <td>1</td>\n",
       "      <td>35</td>\n",
       "      <td>12.00</td>\n",
       "      <td>5</td>\n",
       "      <td>1</td>\n",
       "      <td>100</td>\n",
       "    </tr>\n",
       "    <tr>\n",
       "      <th>1</th>\n",
       "      <td>1</td>\n",
       "      <td>29</td>\n",
       "      <td>7.00</td>\n",
       "      <td>5</td>\n",
       "      <td>1</td>\n",
       "      <td>96</td>\n",
       "    </tr>\n",
       "    <tr>\n",
       "      <th>2</th>\n",
       "      <td>1</td>\n",
       "      <td>50</td>\n",
       "      <td>8.00</td>\n",
       "      <td>1</td>\n",
       "      <td>3</td>\n",
       "      <td>132</td>\n",
       "    </tr>\n",
       "    <tr>\n",
       "      <th>3</th>\n",
       "      <td>1</td>\n",
       "      <td>32</td>\n",
       "      <td>11.75</td>\n",
       "      <td>7</td>\n",
       "      <td>3</td>\n",
       "      <td>750</td>\n",
       "    </tr>\n",
       "    <tr>\n",
       "      <th>4</th>\n",
       "      <td>1</td>\n",
       "      <td>67</td>\n",
       "      <td>9.25</td>\n",
       "      <td>1</td>\n",
       "      <td>1</td>\n",
       "      <td>42</td>\n",
       "    </tr>\n",
       "    <tr>\n",
       "      <th>...</th>\n",
       "      <td>...</td>\n",
       "      <td>...</td>\n",
       "      <td>...</td>\n",
       "      <td>...</td>\n",
       "      <td>...</td>\n",
       "      <td>...</td>\n",
       "    </tr>\n",
       "    <tr>\n",
       "      <th>85</th>\n",
       "      <td>2</td>\n",
       "      <td>34</td>\n",
       "      <td>12.00</td>\n",
       "      <td>3</td>\n",
       "      <td>3</td>\n",
       "      <td>95</td>\n",
       "    </tr>\n",
       "    <tr>\n",
       "      <th>86</th>\n",
       "      <td>2</td>\n",
       "      <td>20</td>\n",
       "      <td>3.50</td>\n",
       "      <td>6</td>\n",
       "      <td>1</td>\n",
       "      <td>75</td>\n",
       "    </tr>\n",
       "    <tr>\n",
       "      <th>87</th>\n",
       "      <td>2</td>\n",
       "      <td>35</td>\n",
       "      <td>8.25</td>\n",
       "      <td>8</td>\n",
       "      <td>3</td>\n",
       "      <td>100</td>\n",
       "    </tr>\n",
       "    <tr>\n",
       "      <th>88</th>\n",
       "      <td>1</td>\n",
       "      <td>24</td>\n",
       "      <td>10.75</td>\n",
       "      <td>10</td>\n",
       "      <td>1</td>\n",
       "      <td>20</td>\n",
       "    </tr>\n",
       "    <tr>\n",
       "      <th>89</th>\n",
       "      <td>1</td>\n",
       "      <td>19</td>\n",
       "      <td>8.00</td>\n",
       "      <td>8</td>\n",
       "      <td>1</td>\n",
       "      <td>160</td>\n",
       "    </tr>\n",
       "  </tbody>\n",
       "</table>\n",
       "<p>90 rows × 6 columns</p>\n",
       "</div>"
      ],
      "text/plain": [
       "    sex  age   Time  Number_of_Warts  Type  Area\n",
       "0     1   35  12.00                5     1   100\n",
       "1     1   29   7.00                5     1    96\n",
       "2     1   50   8.00                1     3   132\n",
       "3     1   32  11.75                7     3   750\n",
       "4     1   67   9.25                1     1    42\n",
       "..  ...  ...    ...              ...   ...   ...\n",
       "85    2   34  12.00                3     3    95\n",
       "86    2   20   3.50                6     1    75\n",
       "87    2   35   8.25                8     3   100\n",
       "88    1   24  10.75               10     1    20\n",
       "89    1   19   8.00                8     1   160\n",
       "\n",
       "[90 rows x 6 columns]"
      ]
     },
     "execution_count": 17,
     "metadata": {},
     "output_type": "execute_result"
    }
   ],
   "source": [
    "df"
   ]
  },
  {
   "cell_type": "code",
   "execution_count": 18,
   "metadata": {},
   "outputs": [
    {
     "data": {
      "text/plain": [
       "0     0\n",
       "1     1\n",
       "2     0\n",
       "3     0\n",
       "4     0\n",
       "     ..\n",
       "85    0\n",
       "86    1\n",
       "87    0\n",
       "88    1\n",
       "89    1\n",
       "Name: Result_of_Treatment, Length: 90, dtype: int64"
      ]
     },
     "execution_count": 18,
     "metadata": {},
     "output_type": "execute_result"
    }
   ],
   "source": [
    "output"
   ]
  },
  {
   "cell_type": "code",
   "execution_count": 19,
   "metadata": {},
   "outputs": [
    {
     "data": {
      "text/plain": [
       "1"
      ]
     },
     "execution_count": 19,
     "metadata": {},
     "output_type": "execute_result"
    }
   ],
   "source": [
    "df[df.columns[0]][4]"
   ]
  },
  {
   "cell_type": "code",
   "execution_count": 20,
   "metadata": {},
   "outputs": [
    {
     "data": {
      "text/plain": [
       "2.718281828459045"
      ]
     },
     "execution_count": 20,
     "metadata": {},
     "output_type": "execute_result"
    }
   ],
   "source": [
    "np.exp(1)"
   ]
  },
  {
   "cell_type": "code",
   "execution_count": 21,
   "metadata": {},
   "outputs": [
    {
     "data": {
      "text/plain": [
       "6"
      ]
     },
     "execution_count": 21,
     "metadata": {},
     "output_type": "execute_result"
    }
   ],
   "source": [
    "n"
   ]
  },
  {
   "cell_type": "code",
   "execution_count": 27,
   "metadata": {},
   "outputs": [],
   "source": [
    "l = list()\n",
    "count = 0\n",
    "while count != no_of_train_data :\n",
    "    for row in range(no_of_train_data):\n",
    "        # forward propagation starts\n",
    "\n",
    "        for column in range(len(df.columns)):\n",
    "            Oi[column] = df[df.columns[column]][row]\n",
    "            \n",
    "        for i in range(n):\n",
    "            for j in range(n):\n",
    "                netj[j] = netj[j] + Oi[i] * Wij[i,j]\n",
    "        \n",
    "        \n",
    "        for j in range(n):\n",
    "            activj[j] = netj[j] + bj[j]\n",
    "        \n",
    "        for j in range(n):\n",
    "            Oj[j] = 1 / (1 + np.exp(-1*activj[j]))\n",
    "\n",
    "        for j in range(n):\n",
    "            for k in range(m):\n",
    "                netk[k] = netk[k] + Oj[j] * Wjk[j,k]\n",
    "\n",
    "        for k in range(m):\n",
    "            activk[k] = netk[k] + bk[k]\n",
    "        \n",
    "        for k in range(m):\n",
    "            Ok[k] = 1 / (1 + np.exp(-1*activk[k]))\n",
    "        \n",
    "        delta = output[row] - Ok[0] # not generalized\n",
    "        error = 0.5 * ( delta ** 2)\n",
    "        if error <= 0.01:\n",
    "            l.append(Ok[0])\n",
    "            count = count + 1\n",
    "            netj = np.zeros(n)\n",
    "            netk = np.zeros(m)\n",
    "            continue\n",
    "        \n",
    "        \n",
    "        # Backpropagation starts\n",
    "\n",
    "        for j in range(n):\n",
    "            for k in range(m):\n",
    "                delta_Wjk[j,k] = learning_rate * delta * Oj[j] * Ok[k] * (1 - Ok[k])\n",
    "        \n",
    "        for j in range(n):\n",
    "            for k in range(m):\n",
    "                Wjk[j,k] = Wjk[j,k] + delta_Wjk[j,k]\n",
    "\n",
    "        for k in range(m):\n",
    "            delta_bk[k] = learning_rate * delta * Ok[k] * (1 - Ok[k])\n",
    "\n",
    "        for k in range(m):\n",
    "            bk[k] = bk[k] + delta_bk[k]\n",
    "        \n",
    "        summation = 0\n",
    "        for j in range(n):\n",
    "            summation = summation + Wjk[j,0] * delta\n",
    "\n",
    "        for i in range(n):\n",
    "            for j in range(n):\n",
    "                delta_Wij[i,j] = learning_rate * Oi[i] * Oj[j] * (1-Oj[j]) * summation\n",
    "\n",
    "        for i in range(n):\n",
    "            for j in range(n):\n",
    "                Wij[i,j] = Wij[i,j] + delta_Wij[i,j]\n",
    "\n",
    "        for j in range(n):\n",
    "            delta_bj[j] = learning_rate * Oj[j] * (1 - Oj[j]) * summation\n",
    "\n",
    "        for j in range(n):\n",
    "            bj[j] = bj[j] + delta_bj[j] \n",
    "\n",
    "        netj = np.zeros(n)\n",
    "        netk = np.zeros(m)\n",
    "        count = 0\n",
    "        l = list()\n",
    "        break      "
   ]
  },
  {
   "cell_type": "code",
   "execution_count": 28,
   "metadata": {},
   "outputs": [
    {
     "data": {
      "text/plain": [
       "12"
      ]
     },
     "execution_count": 28,
     "metadata": {},
     "output_type": "execute_result"
    }
   ],
   "source": [
    "count"
   ]
  },
  {
   "cell_type": "code",
   "execution_count": 29,
   "metadata": {},
   "outputs": [
    {
     "data": {
      "text/plain": [
       "[0.13859371326555509,\n",
       " 0.11784658969017542,\n",
       " 0.11219060090480577,\n",
       " 0.10104441873376377,\n",
       " 0.11652501315300999,\n",
       " 0.1035533740319198,\n",
       " 0.10041976198227501,\n",
       " 0.09333438950480245,\n",
       " 0.8752301770087584,\n",
       " 0.8704865786654388,\n",
       " 0.8685175024285732,\n",
       " 0.8600370620460503]"
      ]
     },
     "execution_count": 29,
     "metadata": {},
     "output_type": "execute_result"
    }
   ],
   "source": [
    "l"
   ]
  },
  {
   "cell_type": "code",
   "execution_count": 30,
   "metadata": {},
   "outputs": [
    {
     "name": "stdout",
     "output_type": "stream",
     "text": [
      "[0.008513240886662185, 0.008528250789842408, 0.008528389396514395, 0.008528391294174587]\n",
      "No of Test Data : 4\n",
      "Right : 4\n",
      "Wrong : 0\n",
      "Accuracy : 100.0\n"
     ]
    }
   ],
   "source": [
    "right = 0\n",
    "wrong = 0\n",
    "l = list()\n",
    "for row in range(no_of_train_data,total_number):\n",
    "    # forward propagation starts\n",
    "\n",
    "    for column in range(len(df.columns)):\n",
    "        Oi[column] = df[df.columns[column]][row]\n",
    "        \n",
    "    for i in range(n):\n",
    "        for j in range(n):\n",
    "            netj[j] = netj[j] + Oi[i] * Wij[i,j]\n",
    "    \n",
    "    \n",
    "    for j in range(n):\n",
    "        activj[j] = netj[j] + bj[j]\n",
    "    \n",
    "    for j in range(n):\n",
    "        Oj[j] = 1 / (1 + np.exp(-1*activj[j]))\n",
    "\n",
    "    for j in range(n):\n",
    "        for k in range(m):\n",
    "            netk[k] = netk[k] + Oj[j] * Wjk[j,k]\n",
    "\n",
    "    for k in range(m):\n",
    "        activk[k] = netk[k] + bk[k]\n",
    "    \n",
    "    for k in range(m):\n",
    "        Ok[k] = 1 / (1 + np.exp(-1*activk[k]))\n",
    "    \n",
    "    delta = output[row] - Ok[0] # not generalized\n",
    "    error = 0.5 * ( delta ** 2)\n",
    "    l.append(error)\n",
    "\n",
    "    if error <= 0.01:\n",
    "        right = right + 1\n",
    "    else:\n",
    "        wrong = wrong + 1\n",
    "    \n",
    "accuracy = ( right * 100 ) / no_of_test_data\n",
    "\n",
    "print(l)\n",
    "print(\"No of Test Data :\",no_of_test_data)\n",
    "print(\"Right :\",right)\n",
    "print(\"Wrong :\",wrong)\n",
    "print(\"Accuracy :\",accuracy)"
   ]
  }
 ],
 "metadata": {
  "kernelspec": {
   "display_name": "main",
   "language": "python",
   "name": "python3"
  },
  "language_info": {
   "codemirror_mode": {
    "name": "ipython",
    "version": 3
   },
   "file_extension": ".py",
   "mimetype": "text/x-python",
   "name": "python",
   "nbconvert_exporter": "python",
   "pygments_lexer": "ipython3",
   "version": "3.10.4"
  },
  "orig_nbformat": 4,
  "vscode": {
   "interpreter": {
    "hash": "3c2bffaee89cf6b7f3c794e822ddbdb6f04ecad65453ff2af94a3d486d7f8578"
   }
  }
 },
 "nbformat": 4,
 "nbformat_minor": 2
}
