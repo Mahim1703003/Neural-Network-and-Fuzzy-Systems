{
 "cells": [
  {
   "attachments": {},
   "cell_type": "markdown",
   "metadata": {},
   "source": [
    "## Generating n bit of data"
   ]
  },
  {
   "cell_type": "code",
   "execution_count": 1,
   "metadata": {},
   "outputs": [],
   "source": [
    "n = int(input('Enter Number of bits : '))\n",
    "count = 0\n",
    "i = n\n",
    "string = 'bit_'\n",
    "total_number = 2 ** n"
   ]
  },
  {
   "cell_type": "code",
   "execution_count": 2,
   "metadata": {},
   "outputs": [],
   "source": [
    "value = list()\n",
    "dictionary = dict()\n",
    "\n",
    "while i >= 1 :\n",
    "    key = string + str(i)\n",
    "    d = 2 ** count\n",
    "\n",
    "    while len(value) != total_number:\n",
    "        for j in range(d):\n",
    "            value.append(-1)\n",
    "        for j in range(d):\n",
    "            value.append(1)\n",
    "    \n",
    "    dictionary[key] = value\n",
    "    value = list()\n",
    "    count = count + 1\n",
    "    i = i - 1"
   ]
  },
  {
   "cell_type": "code",
   "execution_count": 3,
   "metadata": {},
   "outputs": [
    {
     "data": {
      "text/plain": [
       "{'bit_4': [-1, 1, -1, 1, -1, 1, -1, 1, -1, 1, -1, 1, -1, 1, -1, 1],\n",
       " 'bit_3': [-1, -1, 1, 1, -1, -1, 1, 1, -1, -1, 1, 1, -1, -1, 1, 1],\n",
       " 'bit_2': [-1, -1, -1, -1, 1, 1, 1, 1, -1, -1, -1, -1, 1, 1, 1, 1],\n",
       " 'bit_1': [-1, -1, -1, -1, -1, -1, -1, -1, 1, 1, 1, 1, 1, 1, 1, 1]}"
      ]
     },
     "execution_count": 3,
     "metadata": {},
     "output_type": "execute_result"
    }
   ],
   "source": [
    "dictionary "
   ]
  },
  {
   "cell_type": "code",
   "execution_count": 4,
   "metadata": {},
   "outputs": [
    {
     "data": {
      "text/plain": [
       "[('bit_4', [-1, 1, -1, 1, -1, 1, -1, 1, -1, 1, -1, 1, -1, 1, -1, 1]),\n",
       " ('bit_3', [-1, -1, 1, 1, -1, -1, 1, 1, -1, -1, 1, 1, -1, -1, 1, 1]),\n",
       " ('bit_2', [-1, -1, -1, -1, 1, 1, 1, 1, -1, -1, -1, -1, 1, 1, 1, 1]),\n",
       " ('bit_1', [-1, -1, -1, -1, -1, -1, -1, -1, 1, 1, 1, 1, 1, 1, 1, 1])]"
      ]
     },
     "execution_count": 4,
     "metadata": {},
     "output_type": "execute_result"
    }
   ],
   "source": [
    "list(dictionary.items())"
   ]
  },
  {
   "cell_type": "code",
   "execution_count": 5,
   "metadata": {},
   "outputs": [
    {
     "data": {
      "text/plain": [
       "[('bit_4', [-1, 1, -1, 1, -1, 1, -1, 1, -1, 1, -1, 1, -1, 1, -1, 1]),\n",
       " ('bit_3', [-1, -1, 1, 1, -1, -1, 1, 1, -1, -1, 1, 1, -1, -1, 1, 1]),\n",
       " ('bit_2', [-1, -1, -1, -1, 1, 1, 1, 1, -1, -1, -1, -1, 1, 1, 1, 1]),\n",
       " ('bit_1', [-1, -1, -1, -1, -1, -1, -1, -1, 1, 1, 1, 1, 1, 1, 1, 1])]"
      ]
     },
     "execution_count": 5,
     "metadata": {},
     "output_type": "execute_result"
    }
   ],
   "source": [
    "l = list(dictionary.items())\n",
    "l"
   ]
  },
  {
   "cell_type": "code",
   "execution_count": 6,
   "metadata": {},
   "outputs": [
    {
     "data": {
      "text/plain": [
       "{'bit_1': [-1, -1, -1, -1, -1, -1, -1, -1, 1, 1, 1, 1, 1, 1, 1, 1],\n",
       " 'bit_2': [-1, -1, -1, -1, 1, 1, 1, 1, -1, -1, -1, -1, 1, 1, 1, 1],\n",
       " 'bit_3': [-1, -1, 1, 1, -1, -1, 1, 1, -1, -1, 1, 1, -1, -1, 1, 1],\n",
       " 'bit_4': [-1, 1, -1, 1, -1, 1, -1, 1, -1, 1, -1, 1, -1, 1, -1, 1]}"
      ]
     },
     "execution_count": 6,
     "metadata": {},
     "output_type": "execute_result"
    }
   ],
   "source": [
    "reversed_dictionary = dict()\n",
    "i = n-1\n",
    "while i >= 0:\n",
    "    reversed_dictionary[l[i][0]] = l[i][1]\n",
    "    i = i - 1\n",
    "reversed_dictionary"
   ]
  },
  {
   "cell_type": "code",
   "execution_count": 7,
   "metadata": {},
   "outputs": [
    {
     "data": {
      "text/plain": [
       "{'bit_1': [-1, -1, -1, -1, -1, -1, -1, -1, 1, 1, 1, 1, 1, 1, 1, 1],\n",
       " 'bit_2': [-1, -1, -1, -1, 1, 1, 1, 1, -1, -1, -1, -1, 1, 1, 1, 1],\n",
       " 'bit_3': [-1, -1, 1, 1, -1, -1, 1, 1, -1, -1, 1, 1, -1, -1, 1, 1],\n",
       " 'bit_4': [-1, 1, -1, 1, -1, 1, -1, 1, -1, 1, -1, 1, -1, 1, -1, 1]}"
      ]
     },
     "execution_count": 7,
     "metadata": {},
     "output_type": "execute_result"
    }
   ],
   "source": [
    "dictionary = reversed_dictionary\n",
    "dictionary"
   ]
  },
  {
   "cell_type": "code",
   "execution_count": 8,
   "metadata": {},
   "outputs": [
    {
     "data": {
      "text/plain": [
       "[-1, -1, -1, -1, -1, -1, -1, -1, 1, 1, 1, 1, 1, 1, 1, 1]"
      ]
     },
     "execution_count": 8,
     "metadata": {},
     "output_type": "execute_result"
    }
   ],
   "source": [
    "output = dictionary['bit_1']\n",
    "output"
   ]
  },
  {
   "cell_type": "code",
   "execution_count": 9,
   "metadata": {},
   "outputs": [
    {
     "data": {
      "text/html": [
       "<div>\n",
       "<style scoped>\n",
       "    .dataframe tbody tr th:only-of-type {\n",
       "        vertical-align: middle;\n",
       "    }\n",
       "\n",
       "    .dataframe tbody tr th {\n",
       "        vertical-align: top;\n",
       "    }\n",
       "\n",
       "    .dataframe thead th {\n",
       "        text-align: right;\n",
       "    }\n",
       "</style>\n",
       "<table border=\"1\" class=\"dataframe\">\n",
       "  <thead>\n",
       "    <tr style=\"text-align: right;\">\n",
       "      <th></th>\n",
       "      <th>bit_1</th>\n",
       "      <th>bit_2</th>\n",
       "      <th>bit_3</th>\n",
       "      <th>bit_4</th>\n",
       "    </tr>\n",
       "  </thead>\n",
       "  <tbody>\n",
       "    <tr>\n",
       "      <th>0</th>\n",
       "      <td>-1</td>\n",
       "      <td>-1</td>\n",
       "      <td>-1</td>\n",
       "      <td>-1</td>\n",
       "    </tr>\n",
       "    <tr>\n",
       "      <th>1</th>\n",
       "      <td>-1</td>\n",
       "      <td>-1</td>\n",
       "      <td>-1</td>\n",
       "      <td>1</td>\n",
       "    </tr>\n",
       "    <tr>\n",
       "      <th>2</th>\n",
       "      <td>-1</td>\n",
       "      <td>-1</td>\n",
       "      <td>1</td>\n",
       "      <td>-1</td>\n",
       "    </tr>\n",
       "    <tr>\n",
       "      <th>3</th>\n",
       "      <td>-1</td>\n",
       "      <td>-1</td>\n",
       "      <td>1</td>\n",
       "      <td>1</td>\n",
       "    </tr>\n",
       "    <tr>\n",
       "      <th>4</th>\n",
       "      <td>-1</td>\n",
       "      <td>1</td>\n",
       "      <td>-1</td>\n",
       "      <td>-1</td>\n",
       "    </tr>\n",
       "    <tr>\n",
       "      <th>5</th>\n",
       "      <td>-1</td>\n",
       "      <td>1</td>\n",
       "      <td>-1</td>\n",
       "      <td>1</td>\n",
       "    </tr>\n",
       "    <tr>\n",
       "      <th>6</th>\n",
       "      <td>-1</td>\n",
       "      <td>1</td>\n",
       "      <td>1</td>\n",
       "      <td>-1</td>\n",
       "    </tr>\n",
       "    <tr>\n",
       "      <th>7</th>\n",
       "      <td>-1</td>\n",
       "      <td>1</td>\n",
       "      <td>1</td>\n",
       "      <td>1</td>\n",
       "    </tr>\n",
       "    <tr>\n",
       "      <th>8</th>\n",
       "      <td>1</td>\n",
       "      <td>-1</td>\n",
       "      <td>-1</td>\n",
       "      <td>-1</td>\n",
       "    </tr>\n",
       "    <tr>\n",
       "      <th>9</th>\n",
       "      <td>1</td>\n",
       "      <td>-1</td>\n",
       "      <td>-1</td>\n",
       "      <td>1</td>\n",
       "    </tr>\n",
       "    <tr>\n",
       "      <th>10</th>\n",
       "      <td>1</td>\n",
       "      <td>-1</td>\n",
       "      <td>1</td>\n",
       "      <td>-1</td>\n",
       "    </tr>\n",
       "    <tr>\n",
       "      <th>11</th>\n",
       "      <td>1</td>\n",
       "      <td>-1</td>\n",
       "      <td>1</td>\n",
       "      <td>1</td>\n",
       "    </tr>\n",
       "    <tr>\n",
       "      <th>12</th>\n",
       "      <td>1</td>\n",
       "      <td>1</td>\n",
       "      <td>-1</td>\n",
       "      <td>-1</td>\n",
       "    </tr>\n",
       "    <tr>\n",
       "      <th>13</th>\n",
       "      <td>1</td>\n",
       "      <td>1</td>\n",
       "      <td>-1</td>\n",
       "      <td>1</td>\n",
       "    </tr>\n",
       "    <tr>\n",
       "      <th>14</th>\n",
       "      <td>1</td>\n",
       "      <td>1</td>\n",
       "      <td>1</td>\n",
       "      <td>-1</td>\n",
       "    </tr>\n",
       "    <tr>\n",
       "      <th>15</th>\n",
       "      <td>1</td>\n",
       "      <td>1</td>\n",
       "      <td>1</td>\n",
       "      <td>1</td>\n",
       "    </tr>\n",
       "  </tbody>\n",
       "</table>\n",
       "</div>"
      ],
      "text/plain": [
       "    bit_1  bit_2  bit_3  bit_4\n",
       "0      -1     -1     -1     -1\n",
       "1      -1     -1     -1      1\n",
       "2      -1     -1      1     -1\n",
       "3      -1     -1      1      1\n",
       "4      -1      1     -1     -1\n",
       "5      -1      1     -1      1\n",
       "6      -1      1      1     -1\n",
       "7      -1      1      1      1\n",
       "8       1     -1     -1     -1\n",
       "9       1     -1     -1      1\n",
       "10      1     -1      1     -1\n",
       "11      1     -1      1      1\n",
       "12      1      1     -1     -1\n",
       "13      1      1     -1      1\n",
       "14      1      1      1     -1\n",
       "15      1      1      1      1"
      ]
     },
     "execution_count": 9,
     "metadata": {},
     "output_type": "execute_result"
    }
   ],
   "source": [
    "import pandas as pd\n",
    "\n",
    "df = pd.DataFrame(data=dictionary)\n",
    "df"
   ]
  },
  {
   "cell_type": "code",
   "execution_count": 27,
   "metadata": {},
   "outputs": [],
   "source": [
    "# saving the dataframe\n",
    "df.to_csv('file1.csv')"
   ]
  },
  {
   "attachments": {},
   "cell_type": "markdown",
   "metadata": {},
   "source": [
    "## Train Test"
   ]
  },
  {
   "cell_type": "code",
   "execution_count": 10,
   "metadata": {},
   "outputs": [
    {
     "name": "stdout",
     "output_type": "stream",
     "text": [
      "Train Percentage : 60\n",
      "Test Percentage : 40\n"
     ]
    }
   ],
   "source": [
    "train_percentage = 60\n",
    "test_percentage = 100 - train_percentage\n",
    "\n",
    "print('Train Percentage :',train_percentage)\n",
    "print('Test Percentage :',test_percentage)"
   ]
  },
  {
   "cell_type": "code",
   "execution_count": 11,
   "metadata": {},
   "outputs": [
    {
     "name": "stdout",
     "output_type": "stream",
     "text": [
      "No of Train Data : 10\n",
      "No of Test Data : 6\n"
     ]
    }
   ],
   "source": [
    "import math\n",
    "\n",
    "no_of_train_data = math.ceil(( total_number * train_percentage ) / 100)\n",
    "no_of_test_data = total_number - no_of_train_data\n",
    "\n",
    "print('No of Train Data :',no_of_train_data)\n",
    "print('No of Test Data :',no_of_test_data)"
   ]
  },
  {
   "attachments": {},
   "cell_type": "markdown",
   "metadata": {},
   "source": [
    "## Weight Adjusting"
   ]
  },
  {
   "cell_type": "code",
   "execution_count": 12,
   "metadata": {},
   "outputs": [
    {
     "data": {
      "text/plain": [
       "(16, 4)"
      ]
     },
     "execution_count": 12,
     "metadata": {},
     "output_type": "execute_result"
    }
   ],
   "source": [
    "df.shape"
   ]
  },
  {
   "cell_type": "code",
   "execution_count": 13,
   "metadata": {},
   "outputs": [
    {
     "data": {
      "text/plain": [
       "4"
      ]
     },
     "execution_count": 13,
     "metadata": {},
     "output_type": "execute_result"
    }
   ],
   "source": [
    "m = df.shape[1]\n",
    "m"
   ]
  },
  {
   "cell_type": "code",
   "execution_count": 14,
   "metadata": {},
   "outputs": [
    {
     "data": {
      "text/plain": [
       "array([[0., 0., 0., 0.],\n",
       "       [0., 0., 0., 0.],\n",
       "       [0., 0., 0., 0.],\n",
       "       [0., 0., 0., 0.]])"
      ]
     },
     "execution_count": 14,
     "metadata": {},
     "output_type": "execute_result"
    }
   ],
   "source": [
    "import numpy as np\n",
    "w = np.zeros((m,m))\n",
    "w"
   ]
  },
  {
   "cell_type": "code",
   "execution_count": 15,
   "metadata": {},
   "outputs": [],
   "source": [
    "summation = 0\n",
    "\n",
    "for i in range(m):\n",
    "    for j in range(m):\n",
    "        if i != j :\n",
    "            for pattern in range(no_of_train_data):\n",
    "                summation = summation + df.iloc[pattern,i] * df.iloc[pattern,j]\n",
    "            w[i,j] = summation\n",
    "            summation = 0   "
   ]
  },
  {
   "cell_type": "code",
   "execution_count": 16,
   "metadata": {},
   "outputs": [
    {
     "data": {
      "text/plain": [
       "array([[ 0., -2., -2.,  0.],\n",
       "       [-2.,  0.,  2.,  0.],\n",
       "       [-2.,  2.,  0.,  0.],\n",
       "       [ 0.,  0.,  0.,  0.]])"
      ]
     },
     "execution_count": 16,
     "metadata": {},
     "output_type": "execute_result"
    }
   ],
   "source": [
    "w"
   ]
  },
  {
   "attachments": {},
   "cell_type": "markdown",
   "metadata": {},
   "source": [
    "## Pattern matching by taking test data"
   ]
  },
  {
   "cell_type": "code",
   "execution_count": 17,
   "metadata": {},
   "outputs": [
    {
     "name": "stdout",
     "output_type": "stream",
     "text": [
      "New Pattern : [1, -1, 1, -1]\n",
      "At Neuron  0 : [1, -1, 1, -1]\n",
      "At Neuron  1 : [1, -1, 1, -1]\n",
      "At Neuron  2 : [1, -1, -1, -1]\n",
      "At Neuron  3 : [1, -1, -1, -1]\n",
      "At Neuron  0 : [1, -1, -1, -1]\n",
      "At Neuron  1 : [1, -1, -1, -1]\n",
      "At Neuron  2 : [1, -1, -1, -1]\n",
      "Converged pattern of the test pattern : [1, -1, -1, -1]\n",
      "Cluster with 8\n",
      "------------------------------------------------------\n",
      "New Pattern : [1, -1, 1, 1]\n",
      "At Neuron  0 : [1, -1, 1, 1]\n",
      "At Neuron  1 : [1, -1, 1, 1]\n",
      "At Neuron  2 : [1, -1, -1, 1]\n",
      "At Neuron  3 : [1, -1, -1, 1]\n",
      "At Neuron  0 : [1, -1, -1, 1]\n",
      "At Neuron  1 : [1, -1, -1, 1]\n",
      "At Neuron  2 : [1, -1, -1, 1]\n",
      "Converged pattern of the test pattern : [1, -1, -1, 1]\n",
      "Cluster with 9\n",
      "------------------------------------------------------\n",
      "New Pattern : [1, 1, -1, -1]\n",
      "At Neuron  0 : [1, 1, -1, -1]\n",
      "At Neuron  1 : [1, -1, -1, -1]\n",
      "At Neuron  2 : [1, -1, -1, -1]\n",
      "At Neuron  3 : [1, -1, -1, -1]\n",
      "At Neuron  0 : [1, -1, -1, -1]\n",
      "At Neuron  1 : [1, -1, -1, -1]\n",
      "Converged pattern of the test pattern : [1, -1, -1, -1]\n",
      "Cluster with 8\n",
      "------------------------------------------------------\n",
      "New Pattern : [1, 1, -1, 1]\n",
      "At Neuron  0 : [1, 1, -1, 1]\n",
      "At Neuron  1 : [1, -1, -1, 1]\n",
      "At Neuron  2 : [1, -1, -1, 1]\n",
      "At Neuron  3 : [1, -1, -1, 1]\n",
      "At Neuron  0 : [1, -1, -1, 1]\n",
      "At Neuron  1 : [1, -1, -1, 1]\n",
      "Converged pattern of the test pattern : [1, -1, -1, 1]\n",
      "Cluster with 9\n",
      "------------------------------------------------------\n",
      "New Pattern : [1, 1, 1, -1]\n",
      "At Neuron  0 : [-1, 1, 1, -1]\n",
      "At Neuron  1 : [-1, 1, 1, -1]\n",
      "At Neuron  2 : [-1, 1, 1, -1]\n",
      "At Neuron  3 : [-1, 1, 1, -1]\n",
      "At Neuron  0 : [-1, 1, 1, -1]\n",
      "Converged pattern of the test pattern : [-1, 1, 1, -1]\n",
      "Cluster with 6\n",
      "------------------------------------------------------\n",
      "New Pattern : [1, 1, 1, 1]\n",
      "At Neuron  0 : [-1, 1, 1, 1]\n",
      "At Neuron  1 : [-1, 1, 1, 1]\n",
      "At Neuron  2 : [-1, 1, 1, 1]\n",
      "At Neuron  3 : [-1, 1, 1, 1]\n",
      "At Neuron  0 : [-1, 1, 1, 1]\n",
      "Converged pattern of the test pattern : [-1, 1, 1, 1]\n",
      "Cluster with 7\n",
      "------------------------------------------------------\n"
     ]
    }
   ],
   "source": [
    "new_pattern = list()\n",
    "temp = list()\n",
    "sum = 0\n",
    "count = 1 \n",
    "flag = True\n",
    "\n",
    "for pattern in range(no_of_train_data,total_number):\n",
    "    for j in range(m):\n",
    "        new_pattern.append(df.iloc[pattern,j])\n",
    "    print('New Pattern :',new_pattern)\n",
    "\n",
    "    while flag:\n",
    "        for row in range(m):\n",
    "            for j in range(m):\n",
    "                sum = sum + w[row,j] * new_pattern[j]\n",
    "            \n",
    "            if sum > 0 :\n",
    "                new_pattern[row] = 1\n",
    "            elif sum < 0 :\n",
    "                new_pattern[row] = -1\n",
    "            \n",
    "            print('At Neuron ',row,':',new_pattern)\n",
    "\n",
    "            if len(temp) == 0 :\n",
    "                temp = new_pattern.copy()\n",
    "            else:\n",
    "                if temp == new_pattern:\n",
    "                    count = count + 1\n",
    "                else:\n",
    "                    count = 1\n",
    "                temp = new_pattern.copy()\n",
    "        \n",
    "            if count >= 5:\n",
    "                flag = False\n",
    "                break\n",
    "            \n",
    "            sum = 0\n",
    "\n",
    "    print('Converged pattern of the test pattern :',new_pattern)\n",
    "    \n",
    "    for p in range(no_of_train_data):\n",
    "        if new_pattern == list(df.iloc[p]):\n",
    "            print('Cluster with',p)\n",
    "            print('------------------------------------------------------')\n",
    "            break\n",
    "    \n",
    "    new_pattern = list()\n",
    "    temp = list() \n",
    "    sum = 0\n",
    "    count = 1\n",
    "    flag = True"
   ]
  },
  {
   "attachments": {},
   "cell_type": "markdown",
   "metadata": {},
   "source": [
    "## ----------------------Just Clearing my doubts-------------------"
   ]
  },
  {
   "cell_type": "code",
   "execution_count": 18,
   "metadata": {},
   "outputs": [
    {
     "data": {
      "text/plain": [
       "[1, 2, 2]"
      ]
     },
     "execution_count": 18,
     "metadata": {},
     "output_type": "execute_result"
    }
   ],
   "source": [
    "t = [1,2,2]\n",
    "m = [1,2,3]\n",
    "t"
   ]
  },
  {
   "cell_type": "code",
   "execution_count": 19,
   "metadata": {},
   "outputs": [],
   "source": [
    "if t == m:\n",
    "    print('hi')"
   ]
  },
  {
   "cell_type": "code",
   "execution_count": 20,
   "metadata": {},
   "outputs": [
    {
     "data": {
      "text/html": [
       "<div>\n",
       "<style scoped>\n",
       "    .dataframe tbody tr th:only-of-type {\n",
       "        vertical-align: middle;\n",
       "    }\n",
       "\n",
       "    .dataframe tbody tr th {\n",
       "        vertical-align: top;\n",
       "    }\n",
       "\n",
       "    .dataframe thead th {\n",
       "        text-align: right;\n",
       "    }\n",
       "</style>\n",
       "<table border=\"1\" class=\"dataframe\">\n",
       "  <thead>\n",
       "    <tr style=\"text-align: right;\">\n",
       "      <th></th>\n",
       "      <th>bit_1</th>\n",
       "      <th>bit_2</th>\n",
       "      <th>bit_3</th>\n",
       "      <th>bit_4</th>\n",
       "    </tr>\n",
       "  </thead>\n",
       "  <tbody>\n",
       "    <tr>\n",
       "      <th>0</th>\n",
       "      <td>-1</td>\n",
       "      <td>-1</td>\n",
       "      <td>-1</td>\n",
       "      <td>-1</td>\n",
       "    </tr>\n",
       "    <tr>\n",
       "      <th>1</th>\n",
       "      <td>-1</td>\n",
       "      <td>-1</td>\n",
       "      <td>-1</td>\n",
       "      <td>1</td>\n",
       "    </tr>\n",
       "    <tr>\n",
       "      <th>2</th>\n",
       "      <td>-1</td>\n",
       "      <td>-1</td>\n",
       "      <td>1</td>\n",
       "      <td>-1</td>\n",
       "    </tr>\n",
       "    <tr>\n",
       "      <th>3</th>\n",
       "      <td>-1</td>\n",
       "      <td>-1</td>\n",
       "      <td>1</td>\n",
       "      <td>1</td>\n",
       "    </tr>\n",
       "    <tr>\n",
       "      <th>4</th>\n",
       "      <td>-1</td>\n",
       "      <td>1</td>\n",
       "      <td>-1</td>\n",
       "      <td>-1</td>\n",
       "    </tr>\n",
       "    <tr>\n",
       "      <th>5</th>\n",
       "      <td>-1</td>\n",
       "      <td>1</td>\n",
       "      <td>-1</td>\n",
       "      <td>1</td>\n",
       "    </tr>\n",
       "    <tr>\n",
       "      <th>6</th>\n",
       "      <td>-1</td>\n",
       "      <td>1</td>\n",
       "      <td>1</td>\n",
       "      <td>-1</td>\n",
       "    </tr>\n",
       "    <tr>\n",
       "      <th>7</th>\n",
       "      <td>-1</td>\n",
       "      <td>1</td>\n",
       "      <td>1</td>\n",
       "      <td>1</td>\n",
       "    </tr>\n",
       "    <tr>\n",
       "      <th>8</th>\n",
       "      <td>1</td>\n",
       "      <td>-1</td>\n",
       "      <td>-1</td>\n",
       "      <td>-1</td>\n",
       "    </tr>\n",
       "    <tr>\n",
       "      <th>9</th>\n",
       "      <td>1</td>\n",
       "      <td>-1</td>\n",
       "      <td>-1</td>\n",
       "      <td>1</td>\n",
       "    </tr>\n",
       "    <tr>\n",
       "      <th>10</th>\n",
       "      <td>1</td>\n",
       "      <td>-1</td>\n",
       "      <td>1</td>\n",
       "      <td>-1</td>\n",
       "    </tr>\n",
       "    <tr>\n",
       "      <th>11</th>\n",
       "      <td>1</td>\n",
       "      <td>-1</td>\n",
       "      <td>1</td>\n",
       "      <td>1</td>\n",
       "    </tr>\n",
       "    <tr>\n",
       "      <th>12</th>\n",
       "      <td>1</td>\n",
       "      <td>1</td>\n",
       "      <td>-1</td>\n",
       "      <td>-1</td>\n",
       "    </tr>\n",
       "    <tr>\n",
       "      <th>13</th>\n",
       "      <td>1</td>\n",
       "      <td>1</td>\n",
       "      <td>-1</td>\n",
       "      <td>1</td>\n",
       "    </tr>\n",
       "    <tr>\n",
       "      <th>14</th>\n",
       "      <td>1</td>\n",
       "      <td>1</td>\n",
       "      <td>1</td>\n",
       "      <td>-1</td>\n",
       "    </tr>\n",
       "    <tr>\n",
       "      <th>15</th>\n",
       "      <td>1</td>\n",
       "      <td>1</td>\n",
       "      <td>1</td>\n",
       "      <td>1</td>\n",
       "    </tr>\n",
       "  </tbody>\n",
       "</table>\n",
       "</div>"
      ],
      "text/plain": [
       "    bit_1  bit_2  bit_3  bit_4\n",
       "0      -1     -1     -1     -1\n",
       "1      -1     -1     -1      1\n",
       "2      -1     -1      1     -1\n",
       "3      -1     -1      1      1\n",
       "4      -1      1     -1     -1\n",
       "5      -1      1     -1      1\n",
       "6      -1      1      1     -1\n",
       "7      -1      1      1      1\n",
       "8       1     -1     -1     -1\n",
       "9       1     -1     -1      1\n",
       "10      1     -1      1     -1\n",
       "11      1     -1      1      1\n",
       "12      1      1     -1     -1\n",
       "13      1      1     -1      1\n",
       "14      1      1      1     -1\n",
       "15      1      1      1      1"
      ]
     },
     "execution_count": 20,
     "metadata": {},
     "output_type": "execute_result"
    }
   ],
   "source": [
    "df"
   ]
  },
  {
   "cell_type": "code",
   "execution_count": 21,
   "metadata": {},
   "outputs": [],
   "source": [
    "m = [-1,-1,-1]"
   ]
  },
  {
   "cell_type": "code",
   "execution_count": 22,
   "metadata": {},
   "outputs": [
    {
     "data": {
      "text/plain": [
       "bit_1   -1\n",
       "bit_2   -1\n",
       "bit_3   -1\n",
       "bit_4   -1\n",
       "Name: 0, dtype: int64"
      ]
     },
     "execution_count": 22,
     "metadata": {},
     "output_type": "execute_result"
    }
   ],
   "source": [
    "df.iloc[0]"
   ]
  },
  {
   "cell_type": "code",
   "execution_count": 23,
   "metadata": {},
   "outputs": [
    {
     "data": {
      "text/plain": [
       "[-1, -1, -1, -1]"
      ]
     },
     "execution_count": 23,
     "metadata": {},
     "output_type": "execute_result"
    }
   ],
   "source": [
    "list(df.iloc[0])"
   ]
  },
  {
   "cell_type": "code",
   "execution_count": 24,
   "metadata": {},
   "outputs": [],
   "source": [
    "if m == list(df.iloc[0]):\n",
    "    print('hi')"
   ]
  },
  {
   "cell_type": "code",
   "execution_count": 25,
   "metadata": {},
   "outputs": [
    {
     "name": "stdout",
     "output_type": "stream",
     "text": [
      "[1, 2, 3]\n",
      "[1, 2, 3]\n"
     ]
    }
   ],
   "source": [
    "m = [1,2,3]\n",
    "t = []\n",
    "t = m.copy()\n",
    "print(m)\n",
    "print(t)"
   ]
  },
  {
   "cell_type": "code",
   "execution_count": 26,
   "metadata": {},
   "outputs": [
    {
     "name": "stdout",
     "output_type": "stream",
     "text": [
      "[10, 2, 3]\n",
      "[1, 2, 3]\n"
     ]
    }
   ],
   "source": [
    "m[0] = 10\n",
    "print(m)\n",
    "print(t)"
   ]
  }
 ],
 "metadata": {
  "kernelspec": {
   "display_name": "main",
   "language": "python",
   "name": "python3"
  },
  "language_info": {
   "codemirror_mode": {
    "name": "ipython",
    "version": 3
   },
   "file_extension": ".py",
   "mimetype": "text/x-python",
   "name": "python",
   "nbconvert_exporter": "python",
   "pygments_lexer": "ipython3",
   "version": "3.10.4"
  },
  "orig_nbformat": 4
 },
 "nbformat": 4,
 "nbformat_minor": 2
}
