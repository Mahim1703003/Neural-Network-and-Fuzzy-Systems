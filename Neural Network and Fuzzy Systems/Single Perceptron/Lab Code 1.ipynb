{
 "cells": [
  {
   "attachments": {},
   "cell_type": "markdown",
   "metadata": {},
   "source": [
    "### for generalized version"
   ]
  },
  {
   "attachments": {},
   "cell_type": "markdown",
   "metadata": {},
   "source": [
    "## 70% test data , 30% train data"
   ]
  },
  {
   "cell_type": "code",
   "execution_count": 2,
   "metadata": {},
   "outputs": [
    {
     "name": "stdout",
     "output_type": "stream",
     "text": [
      "[['000', '001', '011', '010', '110', '111', '101', '100']]\n"
     ]
    }
   ],
   "source": [
    "# Python3 program to generate n-bit Gray codes\n",
    "import math as mt\n",
    "\n",
    "# This function generates all n bit Gray\n",
    "# codes and prints the generated codes\n",
    "lst = list()\n",
    "\n",
    "def generateGrayarr(n):\n",
    "\n",
    "\t# base case\n",
    "\tif (n <= 0):\n",
    "\t\treturn\n",
    "\n",
    "\t# 'arr' will store all generated codes\n",
    "\tarr = list()\n",
    "\n",
    "\t# start with one-bit pattern\n",
    "\tarr.append(\"0\")\n",
    "\tarr.append(\"1\")\n",
    "\n",
    "\t# Every iteration of this loop generates\n",
    "\t# 2*i codes from previously generated i codes.\n",
    "\ti = 2\n",
    "\tj = 0\n",
    "\twhile(True):\n",
    "\n",
    "\t\tif i >= 1 << n:\n",
    "\t\t\tbreak\n",
    "\t\n",
    "\t\t# Enter the previously generated codes\n",
    "\t\t# again in arr[] in reverse order.\n",
    "\t\t# Nor arr[] has double number of codes.\n",
    "\t\tfor j in range(i - 1, -1, -1):\n",
    "\t\t\tarr.append(arr[j])\n",
    "\n",
    "\t\t# append 0 to the first half\n",
    "\t\tfor j in range(i):\n",
    "\t\t\tarr[j] = \"0\" + arr[j]\n",
    "\n",
    "\t\t# append 1 to the second half\n",
    "\t\tfor j in range(i, 2 * i):\n",
    "\t\t\tarr[j] = \"1\" + arr[j]\n",
    "\t\ti = i << 1\n",
    "\n",
    "\t# print contents of arr[]\n",
    "\t# for i in range(len(arr)):\n",
    "\t# \tprint(arr[i])\n",
    "\tlst.append(arr)\n",
    "\n",
    "# Driver Code\n",
    "generateGrayarr(3)\n",
    "\n",
    "# This code is contributed\n",
    "# by Mohit kumar 29\n",
    "print(lst)\n",
    "lst.sort()"
   ]
  },
  {
   "cell_type": "code",
   "execution_count": 33,
   "metadata": {},
   "outputs": [
    {
     "name": "stdout",
     "output_type": "stream",
     "text": [
      "['0000', '0001', '0011', '0010', '0110', '0111', '0101', '0100', '1100', '1101', '1111', '1110', '1010', '1011', '1001', '1000']\n"
     ]
    }
   ],
   "source": [
    "print(lst[0])"
   ]
  },
  {
   "cell_type": "code",
   "execution_count": 38,
   "metadata": {},
   "outputs": [
    {
     "name": "stdout",
     "output_type": "stream",
     "text": [
      "0000\n"
     ]
    }
   ],
   "source": [
    "print(lst[0][0])"
   ]
  },
  {
   "cell_type": "code",
   "execution_count": 28,
   "metadata": {},
   "outputs": [
    {
     "data": {
      "text/html": [
       "<div>\n",
       "<style scoped>\n",
       "    .dataframe tbody tr th:only-of-type {\n",
       "        vertical-align: middle;\n",
       "    }\n",
       "\n",
       "    .dataframe tbody tr th {\n",
       "        vertical-align: top;\n",
       "    }\n",
       "\n",
       "    .dataframe thead th {\n",
       "        text-align: right;\n",
       "    }\n",
       "</style>\n",
       "<table border=\"1\" class=\"dataframe\">\n",
       "  <thead>\n",
       "    <tr style=\"text-align: right;\">\n",
       "      <th></th>\n",
       "      <th>y</th>\n",
       "    </tr>\n",
       "  </thead>\n",
       "  <tbody>\n",
       "    <tr>\n",
       "      <th>0</th>\n",
       "      <td>0000</td>\n",
       "    </tr>\n",
       "    <tr>\n",
       "      <th>1</th>\n",
       "      <td>0001</td>\n",
       "    </tr>\n",
       "    <tr>\n",
       "      <th>2</th>\n",
       "      <td>0011</td>\n",
       "    </tr>\n",
       "    <tr>\n",
       "      <th>3</th>\n",
       "      <td>0010</td>\n",
       "    </tr>\n",
       "    <tr>\n",
       "      <th>4</th>\n",
       "      <td>0110</td>\n",
       "    </tr>\n",
       "    <tr>\n",
       "      <th>5</th>\n",
       "      <td>0111</td>\n",
       "    </tr>\n",
       "    <tr>\n",
       "      <th>6</th>\n",
       "      <td>0101</td>\n",
       "    </tr>\n",
       "    <tr>\n",
       "      <th>7</th>\n",
       "      <td>0100</td>\n",
       "    </tr>\n",
       "    <tr>\n",
       "      <th>8</th>\n",
       "      <td>1100</td>\n",
       "    </tr>\n",
       "    <tr>\n",
       "      <th>9</th>\n",
       "      <td>1101</td>\n",
       "    </tr>\n",
       "    <tr>\n",
       "      <th>10</th>\n",
       "      <td>1111</td>\n",
       "    </tr>\n",
       "    <tr>\n",
       "      <th>11</th>\n",
       "      <td>1110</td>\n",
       "    </tr>\n",
       "    <tr>\n",
       "      <th>12</th>\n",
       "      <td>1010</td>\n",
       "    </tr>\n",
       "    <tr>\n",
       "      <th>13</th>\n",
       "      <td>1011</td>\n",
       "    </tr>\n",
       "    <tr>\n",
       "      <th>14</th>\n",
       "      <td>1001</td>\n",
       "    </tr>\n",
       "    <tr>\n",
       "      <th>15</th>\n",
       "      <td>1000</td>\n",
       "    </tr>\n",
       "  </tbody>\n",
       "</table>\n",
       "</div>"
      ],
      "text/plain": [
       "       y\n",
       "0   0000\n",
       "1   0001\n",
       "2   0011\n",
       "3   0010\n",
       "4   0110\n",
       "5   0111\n",
       "6   0101\n",
       "7   0100\n",
       "8   1100\n",
       "9   1101\n",
       "10  1111\n",
       "11  1110\n",
       "12  1010\n",
       "13  1011\n",
       "14  1001\n",
       "15  1000"
      ]
     },
     "execution_count": 28,
     "metadata": {},
     "output_type": "execute_result"
    }
   ],
   "source": [
    "import pandas as pd\n",
    "Y = pd.DataFrame(lst[0],columns=['y'])\n",
    "Y"
   ]
  },
  {
   "cell_type": "code",
   "execution_count": 44,
   "metadata": {},
   "outputs": [],
   "source": [
    "import math"
   ]
  },
  {
   "cell_type": "code",
   "execution_count": 35,
   "metadata": {},
   "outputs": [
    {
     "name": "stdout",
     "output_type": "stream",
     "text": [
      "16\n",
      "[0, 0, 0, 0, 0, 0, 0, 1, 1, 1, 1, 1, 1, 1, 1, 1]\n"
     ]
    }
   ],
   "source": [
    "length = len(lst[0])\n",
    "print(length)\n",
    "o = list()\n",
    "counter = 0\n",
    "for i in range(length):\n",
    "    counter = counter + 1\n",
    "    if counter < length/2:\n",
    "        o.append(0)\n",
    "    else:\n",
    "        o.append(1)\n",
    "\n",
    "print(o)"
   ]
  },
  {
   "cell_type": "code",
   "execution_count": 37,
   "metadata": {},
   "outputs": [
    {
     "name": "stdout",
     "output_type": "stream",
     "text": [
      "16 11 5\n"
     ]
    }
   ],
   "source": [
    "import math\n",
    "\n",
    "n = length\n",
    "no_of_test_data = math.floor(0.7 * length)\n",
    "no_of_train_data = n - no_of_test_data\n",
    "print(n,no_of_test_data,no_of_train_data)"
   ]
  },
  {
   "cell_type": "code",
   "execution_count": 47,
   "metadata": {},
   "outputs": [],
   "source": [
    "w1 = 0.4\n",
    "w2 = 0.3\n",
    "w3 = 0.2\n",
    "t = 0.5"
   ]
  },
  {
   "cell_type": "code",
   "execution_count": 48,
   "metadata": {},
   "outputs": [],
   "source": [
    "counter = 0\n",
    "\n",
    "while counter!=no_of_test_data :\n",
    "\n",
    "    for i in range(no_of_test_data):\n",
    "        sum = x1[i] * w1 + x2[i] * w2 + x3[i] * w3\n",
    "        \n",
    "        if sum >= t:\n",
    "            result = 1\n",
    "        else:\n",
    "            result = 0\n",
    "\n",
    "        if result == o[i]:\n",
    "            counter = counter + 1\n",
    "        \n",
    "        elif result < o[i]:\n",
    "            w1 = w1 + x1[i]\n",
    "            w2 = w2 + x2[i]\n",
    "            w3 = w3 + x3[i]\n",
    "            counter = 0\n",
    "            break\n",
    "\n",
    "        else:\n",
    "            w1 = w1 - x1[i]\n",
    "            w2 = w2 - x2[i]\n",
    "            w3 = w3 - x3[i]\n",
    "            counter = 0\n",
    "            break\n",
    "        "
   ]
  },
  {
   "cell_type": "code",
   "execution_count": 49,
   "metadata": {},
   "outputs": [
    {
     "name": "stdout",
     "output_type": "stream",
     "text": [
      "1.4 -0.7 -0.8\n"
     ]
    }
   ],
   "source": [
    "print(w1,w2,w3)"
   ]
  },
  {
   "cell_type": "code",
   "execution_count": 56,
   "metadata": {},
   "outputs": [
    {
     "name": "stdout",
     "output_type": "stream",
     "text": [
      "No of train data : 3\n",
      "Right : 2\n",
      "Wrong : 1\n",
      "Accuracy : 66.66666666666667\n"
     ]
    }
   ],
   "source": [
    "right = 0\n",
    "wrong = 0 \n",
    "\n",
    "for i in range(no_of_test_data,n):\n",
    "    sum = x1[i] * w1 + x2[i] * w2 + x3[i] * w3\n",
    "    \n",
    "    if sum >= t:\n",
    "        result = 1\n",
    "    else:\n",
    "        result = 0\n",
    "    \n",
    "    if result == o[i]:\n",
    "        right = right + 1\n",
    "\n",
    "    else:\n",
    "        wrong = wrong + 1\n",
    "\n",
    "accuracy = (right * 100) / no_of_train_data\n",
    "\n",
    "print('No of train data :',no_of_train_data)\n",
    "print('Right :',right)\n",
    "print('Wrong :',wrong)\n",
    "print('Accuracy :',accuracy)"
   ]
  }
 ],
 "metadata": {
  "kernelspec": {
   "display_name": "main",
   "language": "python",
   "name": "python3"
  },
  "language_info": {
   "codemirror_mode": {
    "name": "ipython",
    "version": 3
   },
   "file_extension": ".py",
   "mimetype": "text/x-python",
   "name": "python",
   "nbconvert_exporter": "python",
   "pygments_lexer": "ipython3",
   "version": "3.10.4"
  },
  "orig_nbformat": 4,
  "vscode": {
   "interpreter": {
    "hash": "3c2bffaee89cf6b7f3c794e822ddbdb6f04ecad65453ff2af94a3d486d7f8578"
   }
  }
 },
 "nbformat": 4,
 "nbformat_minor": 2
}
