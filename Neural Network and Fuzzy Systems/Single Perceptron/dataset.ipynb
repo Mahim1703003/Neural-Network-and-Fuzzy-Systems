{
 "cells": [
  {
   "cell_type": "markdown",
   "metadata": {},
   "source": [
    "## Library"
   ]
  },
  {
   "cell_type": "code",
   "execution_count": 535,
   "metadata": {},
   "outputs": [],
   "source": [
    "import numpy as np\n",
    "import pandas as pd\n",
    "import seaborn as sns\n",
    "import matplotlib.pyplot as plt \n",
    "import math "
   ]
  },
  {
   "cell_type": "markdown",
   "metadata": {},
   "source": [
    "## Dataset"
   ]
  },
  {
   "cell_type": "code",
   "execution_count": 536,
   "metadata": {},
   "outputs": [
    {
     "name": "stdout",
     "output_type": "stream",
     "text": [
      "Shape of X: (55, 2)\n",
      "Shape of y: (55,)\n"
     ]
    }
   ],
   "source": [
    "from sklearn.datasets import make_classification\n",
    "\n",
    "X, y = make_classification(n_samples=55, n_features=2, n_informative=2,\n",
    "                           n_redundant=0, n_classes=2, random_state=42)\n",
    "\n",
    "print(\"Shape of X:\", X.shape)\n",
    "print(\"Shape of y:\", y.shape)"
   ]
  },
  {
   "cell_type": "code",
   "execution_count": 537,
   "metadata": {},
   "outputs": [
    {
     "data": {
      "text/plain": [
       "array([[-0.40933759, -1.92807208],\n",
       "       [ 1.50033205, -0.46741109],\n",
       "       [-1.83205466,  0.0132159 ],\n",
       "       [-1.50410704, -0.77392333],\n",
       "       [-1.62147856,  0.23159609],\n",
       "       [ 0.35681306, -1.63768603],\n",
       "       [ 1.87477825,  0.74638576],\n",
       "       [-0.57013259,  1.43231976],\n",
       "       [-1.22384206,  0.69776168],\n",
       "       [-0.74891786, -1.38431951],\n",
       "       [-1.53419812,  0.67228532],\n",
       "       [ 1.01568877,  0.1128579 ],\n",
       "       [ 2.30971874, -1.79912523],\n",
       "       [ 0.14883634, -0.82407129],\n",
       "       [-1.93849132, -0.62234169],\n",
       "       [ 1.18034677,  1.18384689],\n",
       "       [-0.52150238,  2.36558871],\n",
       "       [-1.42604961, -0.58446926],\n",
       "       [ 1.04325557,  0.85907783],\n",
       "       [-0.17002098,  0.87014904],\n",
       "       [ 0.67776608, -0.88279053],\n",
       "       [ 1.08684338,  1.27590592],\n",
       "       [ 0.66918828,  0.81109084],\n",
       "       [ 1.59663763,  1.246863  ],\n",
       "       [-1.51929788,  0.79604508],\n",
       "       [ 0.74477569,  1.03297297],\n",
       "       [-1.43720002, -0.98300724],\n",
       "       [ 1.2782432 , -0.69116083],\n",
       "       [-0.80545222,  1.55476433],\n",
       "       [-1.23958852,  0.05005117],\n",
       "       [-0.5398309 , -1.19152365],\n",
       "       [ 4.0211322 , -0.26832979],\n",
       "       [-0.14303417,  1.76328325],\n",
       "       [ 1.88401263, -1.49083703],\n",
       "       [ 1.50700173,  0.79495666],\n",
       "       [-0.57467178,  1.63026022],\n",
       "       [ 1.87190029,  0.49823846],\n",
       "       [ 1.49940622, -1.65479092],\n",
       "       [-0.70522648, -0.00534576],\n",
       "       [-1.0162148 ,  1.10550313],\n",
       "       [-0.92970316, -0.46612686],\n",
       "       [ 0.76851367,  1.12091316],\n",
       "       [-1.22596667,  1.00683422],\n",
       "       [-1.21527874, -0.79051448],\n",
       "       [-0.76568165, -0.35816745],\n",
       "       [-2.59227291,  0.08023757],\n",
       "       [-0.38531835,  2.23125538],\n",
       "       [-1.28022451,  0.31693117],\n",
       "       [-2.06661519, -0.57822528],\n",
       "       [ 0.46414672,  1.42111577],\n",
       "       [ 0.45638221, -2.08960296],\n",
       "       [ 1.37854288, -2.06614411],\n",
       "       [ 1.93166851, -1.96111906],\n",
       "       [ 1.48864878, -1.08876115],\n",
       "       [-0.33518695,  1.56724096]])"
      ]
     },
     "execution_count": 537,
     "metadata": {},
     "output_type": "execute_result"
    }
   ],
   "source": [
    "X"
   ]
  },
  {
   "cell_type": "code",
   "execution_count": 538,
   "metadata": {},
   "outputs": [
    {
     "data": {
      "text/plain": [
       "array([0, 0, 0, 0, 1, 0, 1, 1, 1, 0, 1, 0, 0, 0, 0, 1, 1, 0, 1, 1, 0, 1,\n",
       "       1, 1, 1, 1, 0, 0, 1, 1, 0, 0, 1, 0, 0, 1, 1, 0, 0, 1, 0, 1, 1, 0,\n",
       "       0, 0, 1, 1, 0, 1, 0, 0, 0, 0, 1])"
      ]
     },
     "execution_count": 538,
     "metadata": {},
     "output_type": "execute_result"
    }
   ],
   "source": [
    "y"
   ]
  },
  {
   "cell_type": "code",
   "execution_count": 539,
   "metadata": {},
   "outputs": [
    {
     "data": {
      "text/html": [
       "<div>\n",
       "<style scoped>\n",
       "    .dataframe tbody tr th:only-of-type {\n",
       "        vertical-align: middle;\n",
       "    }\n",
       "\n",
       "    .dataframe tbody tr th {\n",
       "        vertical-align: top;\n",
       "    }\n",
       "\n",
       "    .dataframe thead th {\n",
       "        text-align: right;\n",
       "    }\n",
       "</style>\n",
       "<table border=\"1\" class=\"dataframe\">\n",
       "  <thead>\n",
       "    <tr style=\"text-align: right;\">\n",
       "      <th></th>\n",
       "      <th>0</th>\n",
       "      <th>1</th>\n",
       "    </tr>\n",
       "  </thead>\n",
       "  <tbody>\n",
       "    <tr>\n",
       "      <th>0</th>\n",
       "      <td>-0.409338</td>\n",
       "      <td>-1.928072</td>\n",
       "    </tr>\n",
       "    <tr>\n",
       "      <th>1</th>\n",
       "      <td>1.500332</td>\n",
       "      <td>-0.467411</td>\n",
       "    </tr>\n",
       "    <tr>\n",
       "      <th>2</th>\n",
       "      <td>-1.832055</td>\n",
       "      <td>0.013216</td>\n",
       "    </tr>\n",
       "    <tr>\n",
       "      <th>3</th>\n",
       "      <td>-1.504107</td>\n",
       "      <td>-0.773923</td>\n",
       "    </tr>\n",
       "    <tr>\n",
       "      <th>4</th>\n",
       "      <td>-1.621479</td>\n",
       "      <td>0.231596</td>\n",
       "    </tr>\n",
       "    <tr>\n",
       "      <th>5</th>\n",
       "      <td>0.356813</td>\n",
       "      <td>-1.637686</td>\n",
       "    </tr>\n",
       "    <tr>\n",
       "      <th>6</th>\n",
       "      <td>1.874778</td>\n",
       "      <td>0.746386</td>\n",
       "    </tr>\n",
       "    <tr>\n",
       "      <th>7</th>\n",
       "      <td>-0.570133</td>\n",
       "      <td>1.432320</td>\n",
       "    </tr>\n",
       "    <tr>\n",
       "      <th>8</th>\n",
       "      <td>-1.223842</td>\n",
       "      <td>0.697762</td>\n",
       "    </tr>\n",
       "    <tr>\n",
       "      <th>9</th>\n",
       "      <td>-0.748918</td>\n",
       "      <td>-1.384320</td>\n",
       "    </tr>\n",
       "    <tr>\n",
       "      <th>10</th>\n",
       "      <td>-1.534198</td>\n",
       "      <td>0.672285</td>\n",
       "    </tr>\n",
       "    <tr>\n",
       "      <th>11</th>\n",
       "      <td>1.015689</td>\n",
       "      <td>0.112858</td>\n",
       "    </tr>\n",
       "    <tr>\n",
       "      <th>12</th>\n",
       "      <td>2.309719</td>\n",
       "      <td>-1.799125</td>\n",
       "    </tr>\n",
       "    <tr>\n",
       "      <th>13</th>\n",
       "      <td>0.148836</td>\n",
       "      <td>-0.824071</td>\n",
       "    </tr>\n",
       "    <tr>\n",
       "      <th>14</th>\n",
       "      <td>-1.938491</td>\n",
       "      <td>-0.622342</td>\n",
       "    </tr>\n",
       "    <tr>\n",
       "      <th>15</th>\n",
       "      <td>1.180347</td>\n",
       "      <td>1.183847</td>\n",
       "    </tr>\n",
       "    <tr>\n",
       "      <th>16</th>\n",
       "      <td>-0.521502</td>\n",
       "      <td>2.365589</td>\n",
       "    </tr>\n",
       "    <tr>\n",
       "      <th>17</th>\n",
       "      <td>-1.426050</td>\n",
       "      <td>-0.584469</td>\n",
       "    </tr>\n",
       "    <tr>\n",
       "      <th>18</th>\n",
       "      <td>1.043256</td>\n",
       "      <td>0.859078</td>\n",
       "    </tr>\n",
       "    <tr>\n",
       "      <th>19</th>\n",
       "      <td>-0.170021</td>\n",
       "      <td>0.870149</td>\n",
       "    </tr>\n",
       "    <tr>\n",
       "      <th>20</th>\n",
       "      <td>0.677766</td>\n",
       "      <td>-0.882791</td>\n",
       "    </tr>\n",
       "    <tr>\n",
       "      <th>21</th>\n",
       "      <td>1.086843</td>\n",
       "      <td>1.275906</td>\n",
       "    </tr>\n",
       "    <tr>\n",
       "      <th>22</th>\n",
       "      <td>0.669188</td>\n",
       "      <td>0.811091</td>\n",
       "    </tr>\n",
       "    <tr>\n",
       "      <th>23</th>\n",
       "      <td>1.596638</td>\n",
       "      <td>1.246863</td>\n",
       "    </tr>\n",
       "    <tr>\n",
       "      <th>24</th>\n",
       "      <td>-1.519298</td>\n",
       "      <td>0.796045</td>\n",
       "    </tr>\n",
       "    <tr>\n",
       "      <th>25</th>\n",
       "      <td>0.744776</td>\n",
       "      <td>1.032973</td>\n",
       "    </tr>\n",
       "    <tr>\n",
       "      <th>26</th>\n",
       "      <td>-1.437200</td>\n",
       "      <td>-0.983007</td>\n",
       "    </tr>\n",
       "    <tr>\n",
       "      <th>27</th>\n",
       "      <td>1.278243</td>\n",
       "      <td>-0.691161</td>\n",
       "    </tr>\n",
       "    <tr>\n",
       "      <th>28</th>\n",
       "      <td>-0.805452</td>\n",
       "      <td>1.554764</td>\n",
       "    </tr>\n",
       "    <tr>\n",
       "      <th>29</th>\n",
       "      <td>-1.239589</td>\n",
       "      <td>0.050051</td>\n",
       "    </tr>\n",
       "    <tr>\n",
       "      <th>30</th>\n",
       "      <td>-0.539831</td>\n",
       "      <td>-1.191524</td>\n",
       "    </tr>\n",
       "    <tr>\n",
       "      <th>31</th>\n",
       "      <td>4.021132</td>\n",
       "      <td>-0.268330</td>\n",
       "    </tr>\n",
       "    <tr>\n",
       "      <th>32</th>\n",
       "      <td>-0.143034</td>\n",
       "      <td>1.763283</td>\n",
       "    </tr>\n",
       "    <tr>\n",
       "      <th>33</th>\n",
       "      <td>1.884013</td>\n",
       "      <td>-1.490837</td>\n",
       "    </tr>\n",
       "    <tr>\n",
       "      <th>34</th>\n",
       "      <td>1.507002</td>\n",
       "      <td>0.794957</td>\n",
       "    </tr>\n",
       "    <tr>\n",
       "      <th>35</th>\n",
       "      <td>-0.574672</td>\n",
       "      <td>1.630260</td>\n",
       "    </tr>\n",
       "    <tr>\n",
       "      <th>36</th>\n",
       "      <td>1.871900</td>\n",
       "      <td>0.498238</td>\n",
       "    </tr>\n",
       "    <tr>\n",
       "      <th>37</th>\n",
       "      <td>1.499406</td>\n",
       "      <td>-1.654791</td>\n",
       "    </tr>\n",
       "    <tr>\n",
       "      <th>38</th>\n",
       "      <td>-0.705226</td>\n",
       "      <td>-0.005346</td>\n",
       "    </tr>\n",
       "    <tr>\n",
       "      <th>39</th>\n",
       "      <td>-1.016215</td>\n",
       "      <td>1.105503</td>\n",
       "    </tr>\n",
       "    <tr>\n",
       "      <th>40</th>\n",
       "      <td>-0.929703</td>\n",
       "      <td>-0.466127</td>\n",
       "    </tr>\n",
       "    <tr>\n",
       "      <th>41</th>\n",
       "      <td>0.768514</td>\n",
       "      <td>1.120913</td>\n",
       "    </tr>\n",
       "    <tr>\n",
       "      <th>42</th>\n",
       "      <td>-1.225967</td>\n",
       "      <td>1.006834</td>\n",
       "    </tr>\n",
       "    <tr>\n",
       "      <th>43</th>\n",
       "      <td>-1.215279</td>\n",
       "      <td>-0.790514</td>\n",
       "    </tr>\n",
       "    <tr>\n",
       "      <th>44</th>\n",
       "      <td>-0.765682</td>\n",
       "      <td>-0.358167</td>\n",
       "    </tr>\n",
       "    <tr>\n",
       "      <th>45</th>\n",
       "      <td>-2.592273</td>\n",
       "      <td>0.080238</td>\n",
       "    </tr>\n",
       "    <tr>\n",
       "      <th>46</th>\n",
       "      <td>-0.385318</td>\n",
       "      <td>2.231255</td>\n",
       "    </tr>\n",
       "    <tr>\n",
       "      <th>47</th>\n",
       "      <td>-1.280225</td>\n",
       "      <td>0.316931</td>\n",
       "    </tr>\n",
       "    <tr>\n",
       "      <th>48</th>\n",
       "      <td>-2.066615</td>\n",
       "      <td>-0.578225</td>\n",
       "    </tr>\n",
       "    <tr>\n",
       "      <th>49</th>\n",
       "      <td>0.464147</td>\n",
       "      <td>1.421116</td>\n",
       "    </tr>\n",
       "    <tr>\n",
       "      <th>50</th>\n",
       "      <td>0.456382</td>\n",
       "      <td>-2.089603</td>\n",
       "    </tr>\n",
       "    <tr>\n",
       "      <th>51</th>\n",
       "      <td>1.378543</td>\n",
       "      <td>-2.066144</td>\n",
       "    </tr>\n",
       "    <tr>\n",
       "      <th>52</th>\n",
       "      <td>1.931669</td>\n",
       "      <td>-1.961119</td>\n",
       "    </tr>\n",
       "    <tr>\n",
       "      <th>53</th>\n",
       "      <td>1.488649</td>\n",
       "      <td>-1.088761</td>\n",
       "    </tr>\n",
       "    <tr>\n",
       "      <th>54</th>\n",
       "      <td>-0.335187</td>\n",
       "      <td>1.567241</td>\n",
       "    </tr>\n",
       "  </tbody>\n",
       "</table>\n",
       "</div>"
      ],
      "text/plain": [
       "           0         1\n",
       "0  -0.409338 -1.928072\n",
       "1   1.500332 -0.467411\n",
       "2  -1.832055  0.013216\n",
       "3  -1.504107 -0.773923\n",
       "4  -1.621479  0.231596\n",
       "5   0.356813 -1.637686\n",
       "6   1.874778  0.746386\n",
       "7  -0.570133  1.432320\n",
       "8  -1.223842  0.697762\n",
       "9  -0.748918 -1.384320\n",
       "10 -1.534198  0.672285\n",
       "11  1.015689  0.112858\n",
       "12  2.309719 -1.799125\n",
       "13  0.148836 -0.824071\n",
       "14 -1.938491 -0.622342\n",
       "15  1.180347  1.183847\n",
       "16 -0.521502  2.365589\n",
       "17 -1.426050 -0.584469\n",
       "18  1.043256  0.859078\n",
       "19 -0.170021  0.870149\n",
       "20  0.677766 -0.882791\n",
       "21  1.086843  1.275906\n",
       "22  0.669188  0.811091\n",
       "23  1.596638  1.246863\n",
       "24 -1.519298  0.796045\n",
       "25  0.744776  1.032973\n",
       "26 -1.437200 -0.983007\n",
       "27  1.278243 -0.691161\n",
       "28 -0.805452  1.554764\n",
       "29 -1.239589  0.050051\n",
       "30 -0.539831 -1.191524\n",
       "31  4.021132 -0.268330\n",
       "32 -0.143034  1.763283\n",
       "33  1.884013 -1.490837\n",
       "34  1.507002  0.794957\n",
       "35 -0.574672  1.630260\n",
       "36  1.871900  0.498238\n",
       "37  1.499406 -1.654791\n",
       "38 -0.705226 -0.005346\n",
       "39 -1.016215  1.105503\n",
       "40 -0.929703 -0.466127\n",
       "41  0.768514  1.120913\n",
       "42 -1.225967  1.006834\n",
       "43 -1.215279 -0.790514\n",
       "44 -0.765682 -0.358167\n",
       "45 -2.592273  0.080238\n",
       "46 -0.385318  2.231255\n",
       "47 -1.280225  0.316931\n",
       "48 -2.066615 -0.578225\n",
       "49  0.464147  1.421116\n",
       "50  0.456382 -2.089603\n",
       "51  1.378543 -2.066144\n",
       "52  1.931669 -1.961119\n",
       "53  1.488649 -1.088761\n",
       "54 -0.335187  1.567241"
      ]
     },
     "execution_count": 539,
     "metadata": {},
     "output_type": "execute_result"
    }
   ],
   "source": [
    "df = pd.DataFrame(X)\n",
    "df"
   ]
  },
  {
   "cell_type": "code",
   "execution_count": 540,
   "metadata": {},
   "outputs": [
    {
     "data": {
      "text/plain": [
       "array([0, 0, 0, 0, 1, 0, 1, 1, 1, 0, 1, 0, 0, 0, 0, 1, 1, 0, 1, 1, 0, 1,\n",
       "       1, 1, 1, 1, 0, 0, 1, 1, 0, 0, 1, 0, 0, 1, 1, 0, 0, 1, 0, 1, 1, 0,\n",
       "       0, 0, 1, 1, 0, 1, 0, 0, 0, 0, 1])"
      ]
     },
     "execution_count": 540,
     "metadata": {},
     "output_type": "execute_result"
    }
   ],
   "source": [
    "output = y\n",
    "output"
   ]
  },
  {
   "cell_type": "code",
   "execution_count": 541,
   "metadata": {},
   "outputs": [
    {
     "name": "stdout",
     "output_type": "stream",
     "text": [
      "2 55\n"
     ]
    }
   ],
   "source": [
    "# number of features or columns\n",
    "n = len(df.columns)\n",
    "total_number = len(df) \n",
    "print(n,total_number)"
   ]
  },
  {
   "cell_type": "markdown",
   "metadata": {},
   "source": [
    "## Generating n number of random weights ,  a fixed threshold value and a fixed learning rate"
   ]
  },
  {
   "cell_type": "code",
   "execution_count": 542,
   "metadata": {},
   "outputs": [
    {
     "data": {
      "text/plain": [
       "2"
      ]
     },
     "execution_count": 542,
     "metadata": {},
     "output_type": "execute_result"
    }
   ],
   "source": [
    "n"
   ]
  },
  {
   "cell_type": "code",
   "execution_count": 543,
   "metadata": {},
   "outputs": [
    {
     "data": {
      "text/plain": [
       "array([0.37454012, 0.95071431])"
      ]
     },
     "execution_count": 543,
     "metadata": {},
     "output_type": "execute_result"
    }
   ],
   "source": [
    "np.random.seed(42)\n",
    "weights = np.random.rand(n)\n",
    "weights"
   ]
  },
  {
   "cell_type": "code",
   "execution_count": 544,
   "metadata": {},
   "outputs": [
    {
     "data": {
      "text/plain": [
       "0.5"
      ]
     },
     "execution_count": 544,
     "metadata": {},
     "output_type": "execute_result"
    }
   ],
   "source": [
    "threshold = 0.5\n",
    "threshold"
   ]
  },
  {
   "cell_type": "code",
   "execution_count": 545,
   "metadata": {},
   "outputs": [
    {
     "data": {
      "text/plain": [
       "0.4"
      ]
     },
     "execution_count": 545,
     "metadata": {},
     "output_type": "execute_result"
    }
   ],
   "source": [
    "learning_rate = 0.4\n",
    "learning_rate"
   ]
  },
  {
   "cell_type": "markdown",
   "metadata": {},
   "source": [
    "## Train Test"
   ]
  },
  {
   "cell_type": "code",
   "execution_count": 546,
   "metadata": {},
   "outputs": [
    {
     "name": "stdout",
     "output_type": "stream",
     "text": [
      "Train Percentage : 80\n",
      "Test Percentage : 20\n"
     ]
    }
   ],
   "source": [
    "train_percentage = 80\n",
    "test_percentage = 100 - train_percentage\n",
    "\n",
    "print('Train Percentage :',train_percentage)\n",
    "print('Test Percentage :',test_percentage)"
   ]
  },
  {
   "cell_type": "code",
   "execution_count": 547,
   "metadata": {},
   "outputs": [
    {
     "name": "stdout",
     "output_type": "stream",
     "text": [
      "No of Train Data : 44\n",
      "No of Test Data : 11\n"
     ]
    }
   ],
   "source": [
    "import math\n",
    "\n",
    "no_of_train_data = math.ceil(( total_number * train_percentage ) / 100)\n",
    "no_of_test_data = total_number - no_of_train_data\n",
    "\n",
    "print('No of Train Data :',no_of_train_data)\n",
    "print('No of Test Data :',no_of_test_data)"
   ]
  },
  {
   "cell_type": "markdown",
   "metadata": {},
   "source": [
    "## Adjusting Weights"
   ]
  },
  {
   "cell_type": "code",
   "execution_count": 548,
   "metadata": {},
   "outputs": [
    {
     "data": {
      "text/plain": [
       "55"
      ]
     },
     "execution_count": 548,
     "metadata": {},
     "output_type": "execute_result"
    }
   ],
   "source": [
    "total_number"
   ]
  },
  {
   "cell_type": "code",
   "execution_count": 549,
   "metadata": {},
   "outputs": [
    {
     "data": {
      "text/plain": [
       "0    -0.409338\n",
       "1     1.500332\n",
       "2    -1.832055\n",
       "3    -1.504107\n",
       "4    -1.621479\n",
       "5     0.356813\n",
       "6     1.874778\n",
       "7    -0.570133\n",
       "8    -1.223842\n",
       "9    -0.748918\n",
       "10   -1.534198\n",
       "11    1.015689\n",
       "12    2.309719\n",
       "13    0.148836\n",
       "14   -1.938491\n",
       "15    1.180347\n",
       "16   -0.521502\n",
       "17   -1.426050\n",
       "18    1.043256\n",
       "19   -0.170021\n",
       "20    0.677766\n",
       "21    1.086843\n",
       "22    0.669188\n",
       "23    1.596638\n",
       "24   -1.519298\n",
       "25    0.744776\n",
       "26   -1.437200\n",
       "27    1.278243\n",
       "28   -0.805452\n",
       "29   -1.239589\n",
       "30   -0.539831\n",
       "31    4.021132\n",
       "32   -0.143034\n",
       "33    1.884013\n",
       "34    1.507002\n",
       "35   -0.574672\n",
       "36    1.871900\n",
       "37    1.499406\n",
       "38   -0.705226\n",
       "39   -1.016215\n",
       "40   -0.929703\n",
       "41    0.768514\n",
       "42   -1.225967\n",
       "43   -1.215279\n",
       "44   -0.765682\n",
       "45   -2.592273\n",
       "46   -0.385318\n",
       "47   -1.280225\n",
       "48   -2.066615\n",
       "49    0.464147\n",
       "50    0.456382\n",
       "51    1.378543\n",
       "52    1.931669\n",
       "53    1.488649\n",
       "54   -0.335187\n",
       "Name: 0, dtype: float64"
      ]
     },
     "execution_count": 549,
     "metadata": {},
     "output_type": "execute_result"
    }
   ],
   "source": [
    "# df.columns\n",
    "# df.columns[0]\n",
    "# df[df.columns[0]]\n",
    "df[df.columns[0]]"
   ]
  },
  {
   "cell_type": "code",
   "execution_count": 550,
   "metadata": {},
   "outputs": [
    {
     "ename": "KeyboardInterrupt",
     "evalue": "",
     "output_type": "error",
     "traceback": [
      "\u001b[1;31m---------------------------------------------------------------------------\u001b[0m",
      "\u001b[1;31mKeyboardInterrupt\u001b[0m                         Traceback (most recent call last)",
      "\u001b[1;32md:\\Academic Course\\Neural Network and Fuzzy Systems\\Perceptron\\dataset.ipynb Cell 21\u001b[0m in \u001b[0;36m9\n\u001b[0;32m      <a href='vscode-notebook-cell:/d%3A/Academic%20Course/Neural%20Network%20and%20Fuzzy%20Systems/Perceptron/dataset.ipynb#X32sZmlsZQ%3D%3D?line=5'>6</a>\u001b[0m summation \u001b[39m=\u001b[39m \u001b[39m0\u001b[39m\n\u001b[0;32m      <a href='vscode-notebook-cell:/d%3A/Academic%20Course/Neural%20Network%20and%20Fuzzy%20Systems/Perceptron/dataset.ipynb#X32sZmlsZQ%3D%3D?line=7'>8</a>\u001b[0m \u001b[39mfor\u001b[39;00m j \u001b[39min\u001b[39;00m \u001b[39mrange\u001b[39m(n):\n\u001b[1;32m----> <a href='vscode-notebook-cell:/d%3A/Academic%20Course/Neural%20Network%20and%20Fuzzy%20Systems/Perceptron/dataset.ipynb#X32sZmlsZQ%3D%3D?line=8'>9</a>\u001b[0m     summation \u001b[39m=\u001b[39m summation \u001b[39m+\u001b[39m df[df\u001b[39m.\u001b[39mcolumns[j]][i] \u001b[39m*\u001b[39m weights[j]\n\u001b[0;32m     <a href='vscode-notebook-cell:/d%3A/Academic%20Course/Neural%20Network%20and%20Fuzzy%20Systems/Perceptron/dataset.ipynb#X32sZmlsZQ%3D%3D?line=10'>11</a>\u001b[0m \u001b[39mif\u001b[39;00m summation \u001b[39m>\u001b[39m\u001b[39m=\u001b[39m threshold :\n\u001b[0;32m     <a href='vscode-notebook-cell:/d%3A/Academic%20Course/Neural%20Network%20and%20Fuzzy%20Systems/Perceptron/dataset.ipynb#X32sZmlsZQ%3D%3D?line=11'>12</a>\u001b[0m     predicted_output \u001b[39m=\u001b[39m \u001b[39m1\u001b[39m\n",
      "File \u001b[1;32mc:\\Users\\HP\\anaconda3\\envs\\main\\lib\\site-packages\\pandas\\core\\series.py:958\u001b[0m, in \u001b[0;36mSeries.__getitem__\u001b[1;34m(self, key)\u001b[0m\n\u001b[0;32m    955\u001b[0m     \u001b[39mreturn\u001b[39;00m \u001b[39mself\u001b[39m\u001b[39m.\u001b[39m_values[key]\n\u001b[0;32m    957\u001b[0m \u001b[39melif\u001b[39;00m key_is_scalar:\n\u001b[1;32m--> 958\u001b[0m     \u001b[39mreturn\u001b[39;00m \u001b[39mself\u001b[39;49m\u001b[39m.\u001b[39;49m_get_value(key)\n\u001b[0;32m    960\u001b[0m \u001b[39mif\u001b[39;00m is_hashable(key):\n\u001b[0;32m    961\u001b[0m     \u001b[39m# Otherwise index.get_value will raise InvalidIndexError\u001b[39;00m\n\u001b[0;32m    962\u001b[0m     \u001b[39mtry\u001b[39;00m:\n\u001b[0;32m    963\u001b[0m         \u001b[39m# For labels that don't resolve as scalars like tuples and frozensets\u001b[39;00m\n",
      "File \u001b[1;32mc:\\Users\\HP\\anaconda3\\envs\\main\\lib\\site-packages\\pandas\\core\\series.py:1065\u001b[0m, in \u001b[0;36mSeries._get_value\u001b[1;34m(self, label, takeable)\u001b[0m\n\u001b[0;32m   1052\u001b[0m \u001b[39mdef\u001b[39;00m \u001b[39m_get_value\u001b[39m(\u001b[39mself\u001b[39m, label, takeable: \u001b[39mbool\u001b[39m \u001b[39m=\u001b[39m \u001b[39mFalse\u001b[39;00m):\n\u001b[0;32m   1053\u001b[0m     \u001b[39m\"\"\"\u001b[39;00m\n\u001b[0;32m   1054\u001b[0m \u001b[39m    Quickly retrieve single value at passed index label.\u001b[39;00m\n\u001b[0;32m   1055\u001b[0m \n\u001b[1;32m   (...)\u001b[0m\n\u001b[0;32m   1063\u001b[0m \u001b[39m    scalar value\u001b[39;00m\n\u001b[0;32m   1064\u001b[0m \u001b[39m    \"\"\"\u001b[39;00m\n\u001b[1;32m-> 1065\u001b[0m     \u001b[39mif\u001b[39;00m takeable:\n\u001b[0;32m   1066\u001b[0m         \u001b[39mreturn\u001b[39;00m \u001b[39mself\u001b[39m\u001b[39m.\u001b[39m_values[label]\n\u001b[0;32m   1068\u001b[0m     \u001b[39m# Similar to Index.get_value, but we do not fall back to positional\u001b[39;00m\n",
      "\u001b[1;31mKeyboardInterrupt\u001b[0m: "
     ]
    }
   ],
   "source": [
    "counter = 0\n",
    "\n",
    "while counter!=no_of_train_data :\n",
    "\n",
    "    for i in range(no_of_train_data):\n",
    "        summation = 0\n",
    "        \n",
    "        for j in range(n):\n",
    "            summation = summation + df[df.columns[j]][i] * weights[j]\n",
    "        \n",
    "        if summation >= threshold :\n",
    "            predicted_output = 1\n",
    "\n",
    "        else:\n",
    "            predicted_output = 0\n",
    "\n",
    "        if predicted_output == output[i]:\n",
    "            counter = counter + 1\n",
    "        \n",
    "        else:\n",
    "            difference = output[i] - predicted_output\n",
    "            for j in range(n):\n",
    "                weights[j] = weights[j] + learning_rate * difference * df[df.columns[j]][i]\n",
    "            counter = 0\n",
    "            break"
   ]
  },
  {
   "cell_type": "code",
   "execution_count": null,
   "metadata": {},
   "outputs": [
    {
     "data": {
      "text/plain": [
       "array([-0.22420138,  4.55566437])"
      ]
     },
     "execution_count": 516,
     "metadata": {},
     "output_type": "execute_result"
    }
   ],
   "source": [
    "weights"
   ]
  },
  {
   "cell_type": "code",
   "execution_count": null,
   "metadata": {},
   "outputs": [
    {
     "name": "stdout",
     "output_type": "stream",
     "text": [
      "0\n",
      "0\n",
      "0\n",
      "0\n",
      "1\n",
      "0\n",
      "1\n",
      "1\n",
      "1\n",
      "0\n",
      "1\n",
      "0\n",
      "0\n",
      "0\n",
      "0\n",
      "1\n",
      "1\n",
      "0\n",
      "1\n",
      "1\n",
      "0\n",
      "1\n",
      "1\n",
      "1\n",
      "1\n",
      "1\n",
      "0\n",
      "0\n",
      "1\n",
      "1\n",
      "0\n",
      "0\n",
      "1\n"
     ]
    }
   ],
   "source": [
    "# proof that these weights are valid for train data\n",
    "\n",
    "for i in range(no_of_train_data) :\n",
    "    summation = 0\n",
    "\n",
    "    for j in range(n):\n",
    "        summation = summation + df[df.columns[j]][i] * weights[j]\n",
    "\n",
    "    if summation >= threshold :\n",
    "        predicted_output = 1\n",
    "    else:\n",
    "        predicted_output = 0\n",
    "    \n",
    "    print(predicted_output)"
   ]
  },
  {
   "cell_type": "code",
   "execution_count": null,
   "metadata": {},
   "outputs": [
    {
     "name": "stdout",
     "output_type": "stream",
     "text": [
      "No of Test Data : 22\n",
      "Right : 20\n",
      "Wrong : 2\n",
      "Accuracy : 90.9090909090909\n"
     ]
    }
   ],
   "source": [
    "right = 0\n",
    "wrong = 0\n",
    "\n",
    "for i in range(no_of_train_data,total_number) :\n",
    "    summation = 0\n",
    "\n",
    "    for j in range(n):\n",
    "        summation = summation + df[df.columns[j]][i] * weights[j]\n",
    "\n",
    "    if summation >= threshold :\n",
    "        predicted_output = 1\n",
    "\n",
    "    else:\n",
    "        predicted_output = 0\n",
    "    \n",
    "    if predicted_output == output[i]:\n",
    "        right = right + 1\n",
    "\n",
    "    else:\n",
    "        wrong = wrong + 1\n",
    "\n",
    "accuracy = ( right * 100 ) / no_of_test_data\n",
    "\n",
    "print('No of Test Data :',no_of_test_data)\n",
    "print('Right :',right)\n",
    "print('Wrong :',wrong)\n",
    "print('Accuracy :',accuracy)"
   ]
  }
 ],
 "metadata": {
  "kernelspec": {
   "display_name": "main",
   "language": "python",
   "name": "python3"
  },
  "language_info": {
   "codemirror_mode": {
    "name": "ipython",
    "version": 3
   },
   "file_extension": ".py",
   "mimetype": "text/x-python",
   "name": "python",
   "nbconvert_exporter": "python",
   "pygments_lexer": "ipython3",
   "version": "3.10.4"
  },
  "orig_nbformat": 4
 },
 "nbformat": 4,
 "nbformat_minor": 2
}
