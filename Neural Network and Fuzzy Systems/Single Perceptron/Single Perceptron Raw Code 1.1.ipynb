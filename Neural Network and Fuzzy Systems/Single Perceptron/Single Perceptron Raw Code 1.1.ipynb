{
 "cells": [
  {
   "attachments": {},
   "cell_type": "markdown",
   "metadata": {},
   "source": [
    "## Single Perceptron for 3 bit data"
   ]
  },
  {
   "cell_type": "code",
   "execution_count": 7,
   "metadata": {},
   "outputs": [],
   "source": [
    "x1 = [0,0,0,0,1,1,1,1]\n",
    "x2 = [0,0,1,1,0,0,1,1]\n",
    "x3 = [0,1,0,1,0,1,0,1]\n",
    "o = [0,0,0,0,1,1,1,1]"
   ]
  },
  {
   "cell_type": "code",
   "execution_count": 8,
   "metadata": {},
   "outputs": [],
   "source": [
    "w1 = 0.4\n",
    "w2 = 0.3\n",
    "w3 = 0.2\n",
    "t = 0.5\n",
    "n = 0.4"
   ]
  },
  {
   "cell_type": "code",
   "execution_count": 9,
   "metadata": {},
   "outputs": [],
   "source": [
    "counter = 0\n",
    "\n",
    "while counter!=8 :\n",
    "\n",
    "    for i in range(8):\n",
    "        sum = x1[i] * w1 + x2[i] * w2 + x3[i] * w3\n",
    "        \n",
    "        if sum >= t:\n",
    "            result = 1\n",
    "        else:\n",
    "            result = 0\n",
    "\n",
    "        if result == o[i]:\n",
    "            counter = counter + 1\n",
    "        \n",
    "        else:\n",
    "            d = o[i] - result\n",
    "            w1 = w1 + n * d * x1[i]\n",
    "            w2 = w2 + n * d * x2[i]\n",
    "            w3 = w3 + n * d * x3[i]\n",
    "            counter = 0\n",
    "            break\n",
    "        "
   ]
  },
  {
   "cell_type": "code",
   "execution_count": 10,
   "metadata": {},
   "outputs": [
    {
     "name": "stdout",
     "output_type": "stream",
     "text": [
      "1.2000000000000002 -0.10000000000000003 -0.2\n"
     ]
    }
   ],
   "source": [
    "print(w1,w2,w3)"
   ]
  },
  {
   "cell_type": "code",
   "execution_count": 11,
   "metadata": {},
   "outputs": [
    {
     "name": "stdout",
     "output_type": "stream",
     "text": [
      "0\n",
      "0\n",
      "0\n",
      "0\n",
      "1\n",
      "1\n",
      "1\n",
      "1\n"
     ]
    }
   ],
   "source": [
    "for i in range(8):\n",
    "    sum = x1[i] * w1 + x2[i] * w2 + x3[i] * w3\n",
    "    \n",
    "    if sum >= t:\n",
    "        result = 1\n",
    "    else:\n",
    "        result = 0\n",
    "    \n",
    "    print(result)"
   ]
  }
 ],
 "metadata": {
  "kernelspec": {
   "display_name": "main",
   "language": "python",
   "name": "python3"
  },
  "language_info": {
   "codemirror_mode": {
    "name": "ipython",
    "version": 3
   },
   "file_extension": ".py",
   "mimetype": "text/x-python",
   "name": "python",
   "nbconvert_exporter": "python",
   "pygments_lexer": "ipython3",
   "version": "3.10.4"
  },
  "orig_nbformat": 4,
  "vscode": {
   "interpreter": {
    "hash": "3c2bffaee89cf6b7f3c794e822ddbdb6f04ecad65453ff2af94a3d486d7f8578"
   }
  }
 },
 "nbformat": 4,
 "nbformat_minor": 2
}
