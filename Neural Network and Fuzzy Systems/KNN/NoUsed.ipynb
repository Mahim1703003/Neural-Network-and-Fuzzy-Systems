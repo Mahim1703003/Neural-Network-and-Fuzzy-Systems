{
 "cells": [
  {
   "cell_type": "code",
   "execution_count": 67,
   "metadata": {},
   "outputs": [],
   "source": [
    "import math"
   ]
  },
  {
   "cell_type": "code",
   "execution_count": 68,
   "metadata": {},
   "outputs": [],
   "source": [
    "# first feature\n",
    "weather = ['Sunny','Sunny','Overcast','Rainy','Rainy','Rainy','Overcast','Sunny','Sunny','Rainy','Sunny','Overcast','Overcast','Rainy']"
   ]
  },
  {
   "cell_type": "code",
   "execution_count": 69,
   "metadata": {},
   "outputs": [],
   "source": [
    "# second feature\n",
    "temp = ['Hot','Hot','Hot','Mild','Cool','Cool','Cool','Mild','Cool','Mild','Mild','Mild','Hot','Mild']"
   ]
  },
  {
   "cell_type": "code",
   "execution_count": 70,
   "metadata": {},
   "outputs": [],
   "source": [
    "# result or label column\n",
    "play = ['No','No','Yes','Yes','Yes','No','Yes','No','Yes','Yes','Yes','Yes','Yes','No']"
   ]
  },
  {
   "cell_type": "code",
   "execution_count": 71,
   "metadata": {},
   "outputs": [
    {
     "name": "stdout",
     "output_type": "stream",
     "text": [
      "{'Sunny': 0, 'Overcast': 1, 'Rainy': 2}\n",
      "[0, 0, 1, 2, 2, 2, 1, 0, 0, 2, 0, 1, 1, 2]\n"
     ]
    }
   ],
   "source": [
    "# converting string type first feature to numeric first feautre\n",
    "\n",
    "weather_dict = dict()\n",
    "counter = 0\n",
    "\n",
    "for i in weather:\n",
    "    if  i not in weather_dict:\n",
    "        weather_dict[i] = counter\n",
    "        counter = counter + 1\n",
    "\n",
    "print(weather_dict)\n",
    "\n",
    "for i in range(len(weather)):\n",
    "    weather[i] = weather_dict[weather[i]]\n",
    "\n",
    "print(weather)"
   ]
  },
  {
   "cell_type": "code",
   "execution_count": 72,
   "metadata": {},
   "outputs": [
    {
     "name": "stdout",
     "output_type": "stream",
     "text": [
      "{'Hot': 0, 'Mild': 1, 'Cool': 2}\n",
      "[0, 0, 0, 1, 2, 2, 2, 1, 2, 1, 1, 1, 0, 1]\n"
     ]
    }
   ],
   "source": [
    "# converting string type second feature to numeric second feautre\n",
    "\n",
    "temp_dict = dict()\n",
    "counter = 0\n",
    "\n",
    "for i in temp:\n",
    "    if  i not in temp_dict:\n",
    "        temp_dict[i] = counter\n",
    "        counter = counter + 1\n",
    "\n",
    "print(temp_dict)\n",
    "\n",
    "for i in range(len(temp)):\n",
    "    temp[i] = temp_dict[temp[i]]\n",
    "\n",
    "print(temp)"
   ]
  },
  {
   "cell_type": "code",
   "execution_count": 73,
   "metadata": {},
   "outputs": [
    {
     "name": "stdout",
     "output_type": "stream",
     "text": [
      "{'No': 0, 'Yes': 1}\n",
      "[0, 0, 1, 1, 1, 0, 1, 0, 1, 1, 1, 1, 1, 0]\n",
      "{0: 0, 1: 0}\n"
     ]
    }
   ],
   "source": [
    "# converting string type label column to numeric label column\n",
    "\n",
    "play_dict = dict()\n",
    "final_dict = dict() # it's for later use when counting the number of classes\n",
    "counter = 0\n",
    "\n",
    "for i in play:\n",
    "    if  i not in play_dict:\n",
    "        play_dict[i] = counter\n",
    "        final_dict[counter] = 0\n",
    "        counter = counter + 1\n",
    "\n",
    "print(play_dict)\n",
    "\n",
    "for i in range(len(play)):\n",
    "    play[i] = play_dict[play[i]]\n",
    "\n",
    "print(play)\n",
    "print(final_dict)"
   ]
  },
  {
   "cell_type": "code",
   "execution_count": 74,
   "metadata": {},
   "outputs": [
    {
     "data": {
      "text/plain": [
       "[(0, 0),\n",
       " (0, 0),\n",
       " (1, 0),\n",
       " (2, 1),\n",
       " (2, 2),\n",
       " (2, 2),\n",
       " (1, 2),\n",
       " (0, 1),\n",
       " (0, 2),\n",
       " (2, 1),\n",
       " (0, 1),\n",
       " (1, 1),\n",
       " (1, 0),\n",
       " (2, 1)]"
      ]
     },
     "execution_count": 74,
     "metadata": {},
     "output_type": "execute_result"
    }
   ],
   "source": [
    "# combining weather and temp features into one column\n",
    "\n",
    "features = list()\n",
    "\n",
    "for i in range(len(weather)):\n",
    "    features.append((weather[i],temp[i]))\n",
    "\n",
    "features"
   ]
  },
  {
   "cell_type": "code",
   "execution_count": 75,
   "metadata": {},
   "outputs": [
    {
     "name": "stdout",
     "output_type": "stream",
     "text": [
      "3\n"
     ]
    }
   ],
   "source": [
    "total_points = len(features)\n",
    "k = math.floor(math.sqrt(total_points))\n",
    "\n",
    "if k%2==0 :\n",
    "    k = k + 1\n",
    "\n",
    "print(k)"
   ]
  },
  {
   "cell_type": "code",
   "execution_count": 76,
   "metadata": {},
   "outputs": [
    {
     "name": "stdout",
     "output_type": "stream",
     "text": [
      "{'Sunny': 0, 'Overcast': 1, 'Rainy': 2}\n",
      "{'Hot': 0, 'Mild': 1, 'Cool': 2}\n",
      "(1, 1)\n"
     ]
    }
   ],
   "source": [
    "# entering an unknown data set or coordinate\n",
    "\n",
    "print(weather_dict)\n",
    "print(temp_dict)\n",
    "str = input('Enter a coordinate : ')\n",
    "l = str.split(',')\n",
    "data = (int(l[0]),int(l[1]))\n",
    "print(data)"
   ]
  },
  {
   "cell_type": "code",
   "execution_count": 77,
   "metadata": {},
   "outputs": [
    {
     "data": {
      "text/plain": [
       "[(0, 1.4142135623730951),\n",
       " (0, 1.4142135623730951),\n",
       " (1, 1.0),\n",
       " (1, 1.0),\n",
       " (1, 1.4142135623730951),\n",
       " (0, 1.4142135623730951),\n",
       " (1, 1.0),\n",
       " (0, 1.0),\n",
       " (1, 1.4142135623730951),\n",
       " (1, 1.0),\n",
       " (1, 1.0),\n",
       " (1, 0.0),\n",
       " (1, 1.0),\n",
       " (0, 1.0)]"
      ]
     },
     "execution_count": 77,
     "metadata": {},
     "output_type": "execute_result"
    }
   ],
   "source": [
    "# calculating distance from the given point to all points\n",
    "\n",
    "distance_list = list()\n",
    "final_distance_list = list()\n",
    "\n",
    "for i in features:\n",
    "    distance_list.append(math.sqrt((data[0]-i[0])**2 + (data[1]-i[1])**2))\n",
    "\n",
    "for i in range(len(play)):\n",
    "    final_distance_list.append((play[i],distance_list[i]))\n",
    "\n",
    "\n",
    "final_distance_list"
   ]
  },
  {
   "cell_type": "code",
   "execution_count": 78,
   "metadata": {},
   "outputs": [
    {
     "data": {
      "text/plain": [
       "[(1, 0.0),\n",
       " (1, 1.0),\n",
       " (1, 1.0),\n",
       " (1, 1.0),\n",
       " (0, 1.0),\n",
       " (1, 1.0),\n",
       " (1, 1.0),\n",
       " (1, 1.0),\n",
       " (0, 1.0),\n",
       " (0, 1.4142135623730951),\n",
       " (0, 1.4142135623730951),\n",
       " (1, 1.4142135623730951),\n",
       " (0, 1.4142135623730951),\n",
       " (1, 1.4142135623730951)]"
      ]
     },
     "execution_count": 78,
     "metadata": {},
     "output_type": "execute_result"
    }
   ],
   "source": [
    "# sorting the distance in ascending order\n",
    "\n",
    "def Sort_Tuple(tup): \n",
    "       \n",
    "    # getting length of list of tuples\n",
    "    lst = len(tup) \n",
    "    for i in range(0, lst): \n",
    "           \n",
    "        for j in range(0, lst-i-1): \n",
    "            if (tup[j][-1] > tup[j + 1][-1]): \n",
    "                temp = tup[j] \n",
    "                tup[j]= tup[j + 1] \n",
    "                tup[j + 1]= temp \n",
    "    return tup \n",
    "   \n",
    "# Driver Code \n",
    "sorted_distance_list = Sort_Tuple(final_distance_list)\n",
    "         \n",
    "sorted_distance_list"
   ]
  },
  {
   "cell_type": "code",
   "execution_count": 79,
   "metadata": {},
   "outputs": [
    {
     "name": "stdout",
     "output_type": "stream",
     "text": [
      "The point belongs to 1 class\n"
     ]
    }
   ],
   "source": [
    "# defining which class the givent point belongs to\n",
    "\n",
    "counter = 0\n",
    "\n",
    "for i in sorted_distance_list:\n",
    "    final_dict[i[0]] = final_dict[i[0]] + 1\n",
    "    counter = counter + 1\n",
    "    if counter == k :\n",
    "        break\n",
    "\n",
    "max_value = max(final_dict, key=final_dict.get)\n",
    "print('The point belongs to',max_value,'class')"
   ]
  }
 ],
 "metadata": {
  "kernelspec": {
   "display_name": "main",
   "language": "python",
   "name": "python3"
  },
  "language_info": {
   "codemirror_mode": {
    "name": "ipython",
    "version": 3
   },
   "file_extension": ".py",
   "mimetype": "text/x-python",
   "name": "python",
   "nbconvert_exporter": "python",
   "pygments_lexer": "ipython3",
   "version": "3.10.4"
  },
  "orig_nbformat": 4,
  "vscode": {
   "interpreter": {
    "hash": "3c2bffaee89cf6b7f3c794e822ddbdb6f04ecad65453ff2af94a3d486d7f8578"
   }
  }
 },
 "nbformat": 4,
 "nbformat_minor": 2
}
