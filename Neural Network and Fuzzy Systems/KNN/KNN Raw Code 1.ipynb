{
 "cells": [
  {
   "attachments": {},
   "cell_type": "markdown",
   "metadata": {},
   "source": [
    "## KNN Basic Implementation"
   ]
  },
  {
   "cell_type": "code",
   "execution_count": 1,
   "metadata": {},
   "outputs": [],
   "source": [
    "import math\n",
    "import matplotlib.pyplot as plt"
   ]
  },
  {
   "cell_type": "code",
   "execution_count": 2,
   "metadata": {},
   "outputs": [
    {
     "name": "stdout",
     "output_type": "stream",
     "text": [
      "5\n"
     ]
    }
   ],
   "source": [
    "# giving Coordinates of two classes : goats and cats and defining k\n",
    "\n",
    "goats = [(2,3),(3,3),(2,4),(3,4),(4,4),(2,5),(3,5),(4,5),(3,6),(4,6)]\n",
    "cats = [(8,5),(9,5),(8,6),(9,6),(7,7),(8,7),(9,7),(8,8),(9,8)]\n",
    "\n",
    "total_points = len(goats) + len(cats)\n",
    "k = math.floor(math.sqrt(total_points))\n",
    "\n",
    "if k%2==0 :\n",
    "    k = k + 1\n",
    "\n",
    "print(k)"
   ]
  },
  {
   "cell_type": "code",
   "execution_count": 3,
   "metadata": {},
   "outputs": [
    {
     "name": "stdout",
     "output_type": "stream",
     "text": [
      "[8, 9, 8, 9, 7, 8, 9, 8, 9]\n",
      "[5, 5, 6, 6, 7, 7, 7, 8, 8]\n",
      "[2, 3, 2, 3, 4, 2, 3, 4, 3, 4]\n",
      "[3, 3, 4, 4, 4, 5, 5, 5, 6, 6]\n"
     ]
    }
   ],
   "source": [
    "cats_x = list()\n",
    "cats_y = list()\n",
    "\n",
    "for i in cats:\n",
    "    cats_x.append(i[0])\n",
    "    cats_y.append(i[1])\n",
    "\n",
    "print(cats_x)\n",
    "print(cats_y)\n",
    "\n",
    "goats_x = list()\n",
    "goats_y = list()\n",
    "\n",
    "for i in goats:\n",
    "    goats_x.append(i[0])\n",
    "    goats_y.append(i[1])\n",
    "\n",
    "print(goats_x)\n",
    "print(goats_y)"
   ]
  },
  {
   "cell_type": "code",
   "execution_count": 4,
   "metadata": {},
   "outputs": [
    {
     "data": {
      "text/plain": [
       "<matplotlib.legend.Legend at 0x2638b1227a0>"
      ]
     },
     "execution_count": 4,
     "metadata": {},
     "output_type": "execute_result"
    },
    {
     "data": {
      "image/png": "[encoded data removed]",
      "text/plain": [
       "<Figure size 640x480 with 1 Axes>"
      ]
     },
     "metadata": {},
     "output_type": "display_data"
    }
   ],
   "source": [
    "plt.scatter(cats_x, cats_y, marker='o', color='red')\n",
    "plt.scatter(goats_x, goats_y, marker='o', color='blue')\n",
    "plt.legend(['Cats','Goats'])"
   ]
  },
  {
   "cell_type": "code",
   "execution_count": 5,
   "metadata": {},
   "outputs": [
    {
     "name": "stdout",
     "output_type": "stream",
     "text": [
      "(7, 5)\n"
     ]
    }
   ],
   "source": [
    "# entering an unknown data set or coordinate\n",
    "\n",
    "str = input('Enter a coordinate : ')\n",
    "l = str.split(',')\n",
    "data = (int(l[0]),int(l[1]))\n",
    "print(data)"
   ]
  },
  {
   "cell_type": "code",
   "execution_count": 6,
   "metadata": {},
   "outputs": [
    {
     "data": {
      "text/plain": [
       "<matplotlib.legend.Legend at 0x2638b7a4730>"
      ]
     },
     "execution_count": 6,
     "metadata": {},
     "output_type": "execute_result"
    },
    {
     "data": {
      "image/png": "[encoded data removed]",
      "text/plain": [
       "<Figure size 640x480 with 1 Axes>"
      ]
     },
     "metadata": {},
     "output_type": "display_data"
    }
   ],
   "source": [
    "plt.scatter(cats_x, cats_y, marker='o', color='red')\n",
    "plt.scatter(goats_x, goats_y, marker='o', color='blue')\n",
    "plt.scatter(data[0],data[1],marker='x',color='green')\n",
    "\n",
    "plt.legend(['Cats','Goats','Input Point'])"
   ]
  },
  {
   "cell_type": "code",
   "execution_count": 7,
   "metadata": {},
   "outputs": [
    {
     "name": "stdout",
     "output_type": "stream",
     "text": [
      "[('goat', 5.385164807134504), ('goat', 4.47213595499958), ('goat', 5.0990195135927845), ('goat', 4.123105625617661), ('goat', 3.1622776601683795), ('goat', 5.0), ('goat', 4.0), ('goat', 3.0), ('goat', 4.123105625617661), ('goat', 3.1622776601683795), ('cat', 1.0), ('cat', 2.0), ('cat', 1.4142135623730951), ('cat', 2.23606797749979), ('cat', 2.0), ('cat', 2.23606797749979), ('cat', 2.8284271247461903), ('cat', 3.1622776601683795), ('cat', 3.605551275463989)]\n"
     ]
    }
   ],
   "source": [
    "# calculating distance from the given point to all points\n",
    "\n",
    "dictionary = dict()\n",
    "distance_list = list()\n",
    "\n",
    "for i in goats:\n",
    "    distance = math.sqrt((data[0]-i[0])**2 + (data[1]-i[1])**2)\n",
    "    distance_list.append(('goat',distance))\n",
    "\n",
    "for i in cats:\n",
    "    distance = math.sqrt((data[0]-i[0])**2 + (data[1]-i[1])**2)\n",
    "    distance_list.append(('cat',distance))\n",
    "\n",
    "print(distance_list)"
   ]
  },
  {
   "cell_type": "code",
   "execution_count": 8,
   "metadata": {},
   "outputs": [
    {
     "data": {
      "text/plain": [
       "[('cat', 1.0),\n",
       " ('cat', 1.4142135623730951),\n",
       " ('cat', 2.0),\n",
       " ('cat', 2.0),\n",
       " ('cat', 2.23606797749979),\n",
       " ('cat', 2.23606797749979),\n",
       " ('cat', 2.8284271247461903),\n",
       " ('goat', 3.0),\n",
       " ('goat', 3.1622776601683795),\n",
       " ('goat', 3.1622776601683795),\n",
       " ('cat', 3.1622776601683795),\n",
       " ('cat', 3.605551275463989),\n",
       " ('goat', 4.0),\n",
       " ('goat', 4.123105625617661),\n",
       " ('goat', 4.123105625617661),\n",
       " ('goat', 4.47213595499958),\n",
       " ('goat', 5.0),\n",
       " ('goat', 5.0990195135927845),\n",
       " ('goat', 5.385164807134504)]"
      ]
     },
     "execution_count": 8,
     "metadata": {},
     "output_type": "execute_result"
    }
   ],
   "source": [
    "# sorting the distance in ascending order\n",
    "\n",
    "for i in range(len(distance_list)):\n",
    "    for j in range(i+1,len(distance_list)):\n",
    "        if distance_list[j][1] < distance_list[i][1]:\n",
    "            temp = distance_list[i]\n",
    "            distance_list[i] = distance_list[j]\n",
    "            distance_list[j] = temp\n",
    "distance_list"
   ]
  },
  {
   "cell_type": "code",
   "execution_count": 9,
   "metadata": {},
   "outputs": [],
   "source": [
    "sorted_distance_list = distance_list"
   ]
  },
  {
   "cell_type": "code",
   "execution_count": 10,
   "metadata": {},
   "outputs": [
    {
     "name": "stdout",
     "output_type": "stream",
     "text": [
      "No of goat class : 0\n",
      "No of cat class : 5\n",
      "The point belongs to cat class\n"
     ]
    }
   ],
   "source": [
    "# defining which class the givent point belongs to\n",
    "\n",
    "goat_class = 0\n",
    "cat_class = 0\n",
    "counter = 0\n",
    "\n",
    "for i in sorted_distance_list:\n",
    "    if i[0]=='goat':\n",
    "        goat_class = goat_class + 1\n",
    "    else:\n",
    "        cat_class = cat_class + 1\n",
    "    \n",
    "    counter = counter + 1\n",
    "    if counter == k :\n",
    "        break\n",
    "\n",
    "print('No of goat class :',goat_class)\n",
    "print('No of cat class :',cat_class)\n",
    "\n",
    "if goat_class > cat_class :\n",
    "    print('The point belongs to goat class')\n",
    "else:\n",
    "    print('The point belongs to cat class')"
   ]
  },
  {
   "cell_type": "code",
   "execution_count": 11,
   "metadata": {},
   "outputs": [
    {
     "data": {
      "text/plain": [
       "<matplotlib.legend.Legend at 0x2638b917100>"
      ]
     },
     "execution_count": 11,
     "metadata": {},
     "output_type": "execute_result"
    },
    {
     "data": {
      "image/png": "[encoded data removed]",
      "text/plain": [
       "<Figure size 1200x600 with 2 Axes>"
      ]
     },
     "metadata": {},
     "output_type": "display_data"
    }
   ],
   "source": [
    "plt.figure(figsize=(12,6))\n",
    "\n",
    "plt.subplot(1, 2, 1) # row 1, col 2 index 1\n",
    "\n",
    "\n",
    "plt.scatter(cats_x, cats_y, marker='o', color='red')\n",
    "plt.scatter(goats_x, goats_y, marker='o', color='blue')\n",
    "plt.scatter(data[0],data[1],marker='x',color='green')\n",
    "plt.title('Train Point and Test Point')\n",
    "\n",
    "plt.legend(['Cats','Goats','Input Point'])\n",
    "\n",
    "if goat_class > cat_class :\n",
    "    goats.append(data)\n",
    "    goats_x.append(data[0])\n",
    "    goats_y.append(data[1])\n",
    "else:\n",
    "    cats.append(data)\n",
    "    cats_x.append(data[0])\n",
    "    cats_y.append(data[1])\n",
    "\n",
    "\n",
    "plt.subplot(1, 2, 2) # index 2\n",
    "\n",
    "\n",
    "plt.scatter(cats_x, cats_y, marker='o', color='red')\n",
    "plt.scatter(goats_x, goats_y, marker='o', color='blue')\n",
    "plt.title('Final Point')\n",
    "\n",
    "plt.legend(['Cats','Goats'])"
   ]
  }
 ],
 "metadata": {
  "kernelspec": {
   "display_name": "main",
   "language": "python",
   "name": "python3"
  },
  "language_info": {
   "codemirror_mode": {
    "name": "ipython",
    "version": 3
   },
   "file_extension": ".py",
   "mimetype": "text/x-python",
   "name": "python",
   "nbconvert_exporter": "python",
   "pygments_lexer": "ipython3",
   "version": "3.10.4"
  },
  "orig_nbformat": 4,
  "vscode": {
   "interpreter": {
    "hash": "3c2bffaee89cf6b7f3c794e822ddbdb6f04ecad65453ff2af94a3d486d7f8578"
   }
  }
 },
 "nbformat": 4,
 "nbformat_minor": 2
}
